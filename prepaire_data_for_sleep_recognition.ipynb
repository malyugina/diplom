{
 "cells": [
  {
   "cell_type": "code",
   "execution_count": 12,
   "metadata": {
    "collapsed": false,
    "deletable": true,
    "editable": true
   },
   "outputs": [
    {
     "ename": "ImportError",
     "evalue": "No module named 'sklearn'",
     "output_type": "error",
     "traceback": [
      "\u001b[0;31m---------------------------------------------------------------------------\u001b[0m",
      "\u001b[0;31mImportError\u001b[0m                               Traceback (most recent call last)",
      "\u001b[0;32m<ipython-input-12-c435cf0f44a8>\u001b[0m in \u001b[0;36m<module>\u001b[0;34m()\u001b[0m\n\u001b[1;32m      5\u001b[0m \u001b[0;32mimport\u001b[0m \u001b[0mmatplotlib\u001b[0m\u001b[0;34m.\u001b[0m\u001b[0mpyplot\u001b[0m \u001b[0;32mas\u001b[0m \u001b[0mplt\u001b[0m\u001b[0;34m\u001b[0m\u001b[0m\n\u001b[1;32m      6\u001b[0m \u001b[0;32mimport\u001b[0m \u001b[0mscipy\u001b[0m\u001b[0;34m.\u001b[0m\u001b[0mndimage\u001b[0m\u001b[0;34m.\u001b[0m\u001b[0mmorphology\u001b[0m \u001b[0;32mas\u001b[0m \u001b[0mmorphology\u001b[0m\u001b[0;34m\u001b[0m\u001b[0m\n\u001b[0;32m----> 7\u001b[0;31m \u001b[0;32mfrom\u001b[0m \u001b[0msklearn\u001b[0m\u001b[0;34m.\u001b[0m\u001b[0mneighbors\u001b[0m \u001b[0;32mimport\u001b[0m \u001b[0mKernelDensity\u001b[0m\u001b[0;34m\u001b[0m\u001b[0m\n\u001b[0m\u001b[1;32m      8\u001b[0m \u001b[0;32mfrom\u001b[0m \u001b[0msklearn\u001b[0m\u001b[0;34m.\u001b[0m\u001b[0mmetrics\u001b[0m \u001b[0;32mimport\u001b[0m \u001b[0mroc_curve\u001b[0m\u001b[0;34m,\u001b[0m \u001b[0mauc\u001b[0m\u001b[0;34m\u001b[0m\u001b[0m\n\u001b[1;32m      9\u001b[0m \u001b[0;32mfrom\u001b[0m \u001b[0mitertools\u001b[0m \u001b[0;32mimport\u001b[0m \u001b[0mcycle\u001b[0m\u001b[0;34m\u001b[0m\u001b[0m\n",
      "\u001b[0;31mImportError\u001b[0m: No module named 'sklearn'"
     ]
    }
   ],
   "source": [
    "import h5py\n",
    "import numpy as np\n",
    "import numexpr as ne\n",
    "import pandas as pd\n",
    "import matplotlib.pyplot as plt\n",
    "import scipy.ndimage.morphology as morphology\n",
    "from sklearn.neighbors import KernelDensity\n",
    "from sklearn.metrics import roc_curve, auc\n",
    "from itertools import cycle\n",
    "from scipy import interp\n",
    "\n",
    "%matplotlib inline"
   ]
  },
  {
   "cell_type": "code",
   "execution_count": 5,
   "metadata": {
    "collapsed": false
   },
   "outputs": [
    {
     "name": "stdout",
     "output_type": "stream",
     "text": [
      "[sudo] password for groza: \n"
     ]
    }
   ],
   "source": [
    "! sudo pip3 install h5py"
   ]
  },
  {
   "cell_type": "code",
   "execution_count": 2,
   "metadata": {
    "collapsed": false,
    "deletable": true,
    "editable": true
   },
   "outputs": [
    {
     "name": "stdout",
     "output_type": "stream",
     "text": [
      "Traceback (most recent call last):\r\n",
      "  File \"/usr/local/bin/ptdump\", line 5, in <module>\r\n",
      "    from pkg_resources import load_entry_point\r\n",
      "  File \"/home/malyugina/.local/lib/python3.5/site-packages/pkg_resources/__init__.py\", line 2991, in <module>\r\n",
      "    @_call_aside\r\n",
      "  File \"/home/malyugina/.local/lib/python3.5/site-packages/pkg_resources/__init__.py\", line 2977, in _call_aside\r\n",
      "    f(*args, **kwargs)\r\n",
      "  File \"/home/malyugina/.local/lib/python3.5/site-packages/pkg_resources/__init__.py\", line 3004, in _initialize_master_working_set\r\n",
      "    working_set = WorkingSet._build_master()\r\n",
      "  File \"/home/malyugina/.local/lib/python3.5/site-packages/pkg_resources/__init__.py\", line 662, in _build_master\r\n",
      "    ws.require(__requires__)\r\n",
      "  File \"/home/malyugina/.local/lib/python3.5/site-packages/pkg_resources/__init__.py\", line 970, in require\r\n",
      "    needed = self.resolve(parse_requirements(requirements))\r\n",
      "  File \"/home/malyugina/.local/lib/python3.5/site-packages/pkg_resources/__init__.py\", line 856, in resolve\r\n",
      "    raise DistributionNotFound(req, requirers)\r\n",
      "pkg_resources.DistributionNotFound: The 'tables==3.2.2' distribution was not found and is required by the application\r\n"
     ]
    }
   ],
   "source": [
    "!ptdump /home/malyugina/Documents/recurrent_network/simon/compute_data/all_pulses_only_N_for_exp.h5"
   ]
  },
  {
   "cell_type": "code",
   "execution_count": 3,
   "metadata": {
    "collapsed": false,
    "deletable": true,
    "editable": true
   },
   "outputs": [],
   "source": [
    "path0 = '/home/malyugina/Documents/iitp/recurrent_network/simon/compute_data/all_pulses_only_N_for_exp.h5'\n",
    "f = h5py.File(path0, 'r')\n",
    "\n",
    "sleep = pd.read_stata('/home/malyugina/Documents/iitp/recurrent_network/network/learning/data/sleep.dta')"
   ]
  },
  {
   "cell_type": "code",
   "execution_count": 4,
   "metadata": {
    "collapsed": true,
    "deletable": true,
    "editable": true
   },
   "outputs": [],
   "source": [
    "persons = f['persons']\n",
    "pulses = f['pulses']\n",
    "\n",
    "gidn = persons['gidn']\n",
    "measurement = persons['measurement_start']"
   ]
  },
  {
   "cell_type": "markdown",
   "metadata": {
    "deletable": true,
    "editable": true
   },
   "source": [
    "# create data for sleep recognition"
   ]
  },
  {
   "cell_type": "code",
   "execution_count": 5,
   "metadata": {
    "collapsed": false,
    "deletable": true,
    "editable": true
   },
   "outputs": [],
   "source": [
    "gidn_for_Sleep = []\n",
    "gidn_for_test = []\n",
    "pulse_for_sleep = {}\n",
    "for i, gidn_i in enumerate(gidn):\n",
    "    if sleep[sleep.GIDN == gidn_i].empty:\n",
    "        continue\n",
    "    if gidn_i == 221938:\n",
    "        continue\n",
    "    if pd.isnull(sleep[sleep.GIDN == gidn_i].Hol_Sleep_Duration_Trend).values:\n",
    "        continue\n",
    "    if ~ pd.isnull(sleep[sleep.GIDN == gidn_i].Hol_Sleep_Duration_Diary).values:\n",
    "        gidn_for_test.append(gidn_i)\n",
    "        pulse_for_sleep[gidn_i] = pulses[i] + measurement[i]\n",
    "        continue\n",
    "    gidn_for_Sleep.append(gidn_i)\n",
    "    pulse_for_sleep[gidn_i] = pulses[i] + measurement[i]\n"
   ]
  },
  {
   "cell_type": "code",
   "execution_count": 6,
   "metadata": {
    "collapsed": false,
    "deletable": true,
    "editable": true
   },
   "outputs": [],
   "source": [
    "val_gidn = np.array(gidn_for_test)[:300]\n",
    "te_gidn = np.array(gidn_for_test)[300:600]\n",
    "tr_gidn = np.array(gidn_for_test)[600:]"
   ]
  },
  {
   "cell_type": "code",
   "execution_count": 7,
   "metadata": {
    "collapsed": true,
    "deletable": true,
    "editable": true
   },
   "outputs": [],
   "source": [
    "tr_gidn = np.hstack((tr_gidn, np.array(gidn_for_Sleep)))\n",
    "all_gidn_for_sleep = np.hstack((np.array(gidn_for_test), np.array(gidn_for_Sleep)))"
   ]
  },
  {
   "cell_type": "code",
   "execution_count": 8,
   "metadata": {
    "collapsed": false,
    "deletable": true,
    "editable": true,
    "scrolled": true
   },
   "outputs": [],
   "source": [
    "sleep_start = {}\n",
    "sleep_end = {}\n",
    "sleep_for_peaks = {}\n",
    "begin_gidn = {}\n",
    "for i in all_gidn_for_sleep:\n",
    "    start = sleep[sleep.GIDN == i].Hol_Sleep_Start_Trend.values\n",
    "    end = sleep[sleep.GIDN == i].Hol_Sleep_End_Trend.values\n",
    "    if min(pulse_for_sleep[i]) > start:\n",
    "        start = start + 1000*60*60*24\n",
    "    if min(pulse_for_sleep[i]) > end:\n",
    "        end = end + 1000*60*60*24\n",
    "    if start > end: #-1 gidn\n",
    "        continue\n",
    "        \n",
    "    sleep_start[i] = start\n",
    "    sleep_end[i] = end\n",
    "    peak_sleep_i = np.ones((len(pulse_for_sleep[i]), 1))\n",
    "    peak_sleep_i[pulse_for_sleep[i] < start] = 0\n",
    "    peak_sleep_i[pulse_for_sleep[i] > end] = 0\n",
    "    sleep_for_peaks[i] = peak_sleep_i\n",
    "    begin_gidn_i = np.zeros((len(pulse_for_sleep[i]), 1))\n",
    "    begin_gidn_i[0] = 1\n",
    "    begin_gidn[i] = begin_gidn_i"
   ]
  },
  {
   "cell_type": "code",
   "execution_count": 9,
   "metadata": {
    "collapsed": false,
    "deletable": true,
    "editable": true,
    "scrolled": true
   },
   "outputs": [],
   "source": [
    "step = 200\n",
    "y_with_feature = {}\n",
    "x_with_feature = {}\n",
    "for gidn_i in all_gidn_for_sleep:\n",
    "    delay = pulse_for_sleep[gidn_i][1:] - pulse_for_sleep[gidn_i][:-1]\n",
    "    mean_ = np.mean(delay)\n",
    "    std_ = np.std(delay)\n",
    "    y_with_feature_i = []\n",
    "    x_with_feature_i = []\n",
    "    for i in range(0, len(delay) - step, step):\n",
    "        if any(sleep_for_peaks[gidn_i][i : i+step] > 0):\n",
    "            y_with_feature_i.append(1)\n",
    "        else:\n",
    "            y_with_feature_i.append(0)\n",
    "        x_with_feature_i.append(np.array([mean_, std_, np.mean(delay[i:i+step]),\n",
    "                                np.std(delay[i:i+step])]))\n",
    "    y_with_feature[gidn_i] = np.array(y_with_feature_i).reshape((len(y_with_feature_i)), 1)\n",
    "    x_with_feature[gidn_i] = np.array(x_with_feature_i)"
   ]
  },
  {
   "cell_type": "markdown",
   "metadata": {
    "collapsed": true,
    "deletable": true,
    "editable": true
   },
   "source": [
    "step = 300000\n",
    "y_with_feature_50000 = {}\n",
    "x_with_feature_50000 = {}\n",
    "len_ = []\n",
    "for gidn_i in all_gidn_for_sleep:\n",
    "    delay = pulse_for_sleep[gidn_i][1:] - pulse_for_sleep[gidn_i][:-1]\n",
    "    mean_ = np.mean(delay)\n",
    "    std_ = np.std(delay)\n",
    "    y_with_feature_i = []\n",
    "    x_with_feature_i = []\n",
    "    for i in range(int(pulse_for_sleep[gidn_i][0]), int(pulse_for_sleep[gidn_i][-1]) - step, step):       \n",
    "        ind = [np.array((pulse_for_sleep[gidn_i] > i, pulse_for_sleep[gidn_i] < i + step)).all(axis = 0)] \n",
    "        len_.append(len(sleep_for_peaks[gidn_i][ind]))\n",
    "        if len(sleep_for_peaks[gidn_i][ind]) < 10:\n",
    "            continue\n",
    "        if any(sleep_for_peaks[gidn_i][ind]):\n",
    "            y_with_feature_i.append(1)\n",
    "        else:\n",
    "            y_with_feature_i.append(0)\n",
    "        x_with_feature_i.append(np.array([mean_, std_, np.mean(delay[ind]),\n",
    "                                np.std(delay[ind])]))\n",
    "    \n",
    "    y_with_feature_50000[gidn_i] = np.array(y_with_feature_i).reshape((len(y_with_feature_i)), 1)\n",
    "    x_with_feature_50000[gidn_i] = np.array(x_with_feature_i) \n",
    "        "
   ]
  },
  {
   "cell_type": "code",
   "execution_count": 10,
   "metadata": {
    "collapsed": false,
    "deletable": true,
    "editable": true
   },
   "outputs": [],
   "source": [
    "def get_data_for_train(gidn):\n",
    "#     X = np.array([[], [], [], [], []]).T\n",
    "    X = np.array([[], [], [], []]).T\n",
    "    Y = np.array([[]]).T\n",
    "    for i in gidn:\n",
    "        Y = np.vstack((Y, y_with_feature[i]))\n",
    "        X = np.vstack((X, x_with_feature[i]))\n",
    "    return(X, Y)"
   ]
  },
  {
   "cell_type": "markdown",
   "metadata": {
    "collapsed": false,
    "deletable": true,
    "editable": true
   },
   "source": [
    "def get_data_for_train(gidn):\n",
    "    X = np.array([[]]).T\n",
    "    Y = np.array([[]]).T\n",
    "    for i in gidn:\n",
    "        Y = np.vstack((Y, sleep_for_peaks[i][:-1]))\n",
    "\n",
    "        X = np.vstack((X, np.array([pulse_for_sleep[i][1:] - pulse_for_sleep[i][:-1]]).reshape(len(pulse_for_sleep[i])-1, 1)))\n",
    "    return(X, Y)"
   ]
  },
  {
   "cell_type": "code",
   "execution_count": 11,
   "metadata": {
    "collapsed": false,
    "deletable": true,
    "editable": true,
    "scrolled": true
   },
   "outputs": [],
   "source": [
    "(te_X, te_Y) = get_data_for_train(te_gidn)\n",
    "(tr_X, tr_Y) = get_data_for_train(tr_gidn)\n",
    "(val_X, val_Y) = get_data_for_train(val_gidn)"
   ]
  },
  {
   "cell_type": "code",
   "execution_count": 12,
   "metadata": {
    "collapsed": false,
    "deletable": true,
    "editable": true,
    "scrolled": true
   },
   "outputs": [
    {
     "name": "stdout",
     "output_type": "stream",
     "text": [
      "(558003, 4)\n"
     ]
    }
   ],
   "source": [
    "print (tr_X.shape)"
   ]
  },
  {
   "cell_type": "markdown",
   "metadata": {
    "collapsed": false,
    "deletable": true,
    "editable": true
   },
   "source": [
    "te_X_inv = te_X[::-1]\n",
    "te_Y_inv = te_Y[::-1]\n",
    "tr_X_inv = tr_X[::-1]\n",
    "tr_Y_inv = tr_Y[::-1]\n",
    "val_X_inv = val_X[::-1]\n",
    "val_Y_inv = val_Y[::-1]"
   ]
  },
  {
   "cell_type": "code",
   "execution_count": 13,
   "metadata": {
    "collapsed": true,
    "deletable": true,
    "editable": true
   },
   "outputs": [],
   "source": [
    "def data_for_lstm (X, y, window=200):\n",
    "    X_new = []\n",
    "    y_new = []\n",
    "    window = window\n",
    "    step = 1\n",
    "    for i in range(0, len(X)-window, step):\n",
    "        X_new.append(X[i:i + window])\n",
    "        y_new.append(y[i + window/2])\n",
    "    X_new = np.array(X_new)\n",
    "    y_new = np.array(y_new)\n",
    "    return (X_new, y_new)"
   ]
  },
  {
   "cell_type": "markdown",
   "metadata": {
    "collapsed": false,
    "deletable": true,
    "editable": true
   },
   "source": [
    "(X_train, y_train) = data_for_lstm(tr_X_inv, tr_Y_inv)\n",
    "(X_val, y_val) = data_for_lstm(val_X_inv, val_Y_inv)\n",
    "(X_test, y_test) = data_for_lstm(te_X_inv, te_Y_inv)"
   ]
  },
  {
   "cell_type": "code",
   "execution_count": 14,
   "metadata": {
    "collapsed": false,
    "deletable": true,
    "editable": true
   },
   "outputs": [
    {
     "name": "stderr",
     "output_type": "stream",
     "text": [
      "/home/malyugina/.local/lib/python3.5/site-packages/ipykernel/__main__.py:8: VisibleDeprecationWarning: using a non-integer number instead of an integer will result in an error in the future\n"
     ]
    }
   ],
   "source": [
    "(X_train, y_train) = data_for_lstm(tr_X, tr_Y)\n",
    "(X_val, y_val) = data_for_lstm(val_X, val_Y)\n",
    "(X_test, y_test) = data_for_lstm(te_X, te_Y)"
   ]
  },
  {
   "cell_type": "code",
   "execution_count": 15,
   "metadata": {
    "collapsed": false,
    "deletable": true,
    "editable": true
   },
   "outputs": [
    {
     "data": {
      "text/plain": [
       "(557803, 200, 4)"
      ]
     },
     "execution_count": 15,
     "metadata": {},
     "output_type": "execute_result"
    }
   ],
   "source": [
    "X_train.shape"
   ]
  },
  {
   "cell_type": "code",
   "execution_count": 16,
   "metadata": {
    "collapsed": false,
    "deletable": true,
    "editable": true
   },
   "outputs": [
    {
     "data": {
      "text/plain": [
       "(148917, 200, 4)"
      ]
     },
     "execution_count": 16,
     "metadata": {},
     "output_type": "execute_result"
    }
   ],
   "source": [
    "X_test[:, :, :].shape"
   ]
  },
  {
   "cell_type": "markdown",
   "metadata": {
    "collapsed": true,
    "deletable": true,
    "editable": true
   },
   "source": [
    "new_a = np.zeros((a.shape))\n",
    "for i, a_i in enumerate(a):\n",
    "    for j, a_j in enumerate(a):\n",
    "        #print (i, j, a_j, -(((j-i)**2)/100.), (np.exp(-((j-i)**2)/10.)))\n",
    "        new_a[i] = new_a[i] + a_j*(np.exp(-((j-i)**2)/5))"
   ]
  },
  {
   "cell_type": "markdown",
   "metadata": {
    "collapsed": false,
    "deletable": true,
    "editable": true
   },
   "source": [
    "y_test_3d"
   ]
  },
  {
   "cell_type": "markdown",
   "metadata": {
    "collapsed": false,
    "deletable": true,
    "editable": true
   },
   "source": [
    "def y_to_3d(y):\n",
    "    y = np.vstack((y[1:]-y[:-1], [-1]))\n",
    "    new_y = np.zeros((len(y), 2))\n",
    "    for i, y_i in enumerate(y):\n",
    "        if y_i == 1:\n",
    "            new_y[i, 0] = 1\n",
    "        if y_i == -1:\n",
    "            new_y[i, 1] = 1\n",
    "    new_y = morphology.grey_dilation(new_y, 5)\n",
    "    gaus_y = np.zeros((new_y.shape))\n",
    "    for i in range(2):\n",
    "        for k in range(len(new_y[:, i])):\n",
    "            for j, a_j in enumerate(new_y[:, i]):\n",
    "                #print (i, k, j)\n",
    "                gaus_y[k, i] = gaus_y[k, i] + a_j*(np.exp(-((j-k)**2)/5))\n",
    "    return gaus_y"
   ]
  },
  {
   "cell_type": "markdown",
   "metadata": {
    "collapsed": false,
    "deletable": true,
    "editable": true
   },
   "source": [
    "y_train_3d = y_to_3d(y_train)\n",
    "y_val_3d = y_to_3d(y_val)\n",
    "y_test_3d = y_to_3d(y_test)"
   ]
  },
  {
   "cell_type": "markdown",
   "metadata": {
    "deletable": true,
    "editable": true
   },
   "source": [
    "# test"
   ]
  },
  {
   "cell_type": "markdown",
   "metadata": {
    "collapsed": true,
    "deletable": true,
    "editable": true
   },
   "source": [
    "weight_class = {}\n",
    "weight_class[0] = 0.0001\n",
    "weight_class[1] = 0.9999"
   ]
  },
  {
   "cell_type": "code",
   "execution_count": 17,
   "metadata": {
    "collapsed": false,
    "deletable": true,
    "editable": true
   },
   "outputs": [
    {
     "name": "stderr",
     "output_type": "stream",
     "text": [
      "Using Theano backend.\n",
      "WARNING (theano.gof.compilelock): Overriding existing lock by dead process '29525' (I am process '30493')\n",
      "Using gpu device 0: GeForce GTX TITAN X (CNMeM is enabled with initial size: 80.0% of memory, cuDNN 5105)\n",
      "/usr/local/lib/python3.5/dist-packages/theano/sandbox/cuda/__init__.py:600: UserWarning: Your cuDNN version is more recent than the one Theano officially supports. If you see any problems, try updating Theano or downgrading cuDNN to version 5.\n",
      "  warnings.warn(warn)\n"
     ]
    }
   ],
   "source": [
    "from keras.models import Sequential\n",
    "from keras.layers.core import Dense, Activation, Dropout, Flatten\n",
    "from keras.layers.recurrent import LSTM\n",
    "from  keras.callbacks import ModelCheckpoint\n",
    "from keras.layers.convolutional import Convolution1D, MaxPooling1D\n",
    "from keras.utils.visualize_util import plot"
   ]
  },
  {
   "cell_type": "code",
   "execution_count": 18,
   "metadata": {
    "collapsed": false,
    "deletable": true,
    "editable": true,
    "scrolled": true
   },
   "outputs": [
    {
     "name": "stdout",
     "output_type": "stream",
     "text": [
      "Train on 557803 samples, validate on 151755 samples\n",
      "Epoch 1/30\n",
      "557000/557803 [============================>.] - ETA: 0s - loss: 0.0674Epoch 00000: val_loss improved from inf to 0.05571, saving model to exp_for_paper_cnn_4.hdf5\n",
      "557803/557803 [==============================] - 19s - loss: 0.0674 - val_loss: 0.0557\n",
      "Epoch 2/30\n",
      "557000/557803 [============================>.] - ETA: 0s - loss: 0.0501Epoch 00001: val_loss improved from 0.05571 to 0.05292, saving model to exp_for_paper_cnn_4.hdf5\n",
      "557803/557803 [==============================] - 19s - loss: 0.0501 - val_loss: 0.0529\n",
      "Epoch 3/30\n",
      "557000/557803 [============================>.] - ETA: 0s - loss: 0.0470Epoch 00002: val_loss improved from 0.05292 to 0.05171, saving model to exp_for_paper_cnn_4.hdf5\n",
      "557803/557803 [==============================] - 19s - loss: 0.0470 - val_loss: 0.0517\n",
      "Epoch 4/30\n",
      "557000/557803 [============================>.] - ETA: 0s - loss: 0.0452Epoch 00003: val_loss improved from 0.05171 to 0.05120, saving model to exp_for_paper_cnn_4.hdf5\n",
      "557803/557803 [==============================] - 19s - loss: 0.0452 - val_loss: 0.0512\n",
      "Epoch 5/30\n",
      "557000/557803 [============================>.] - ETA: 0s - loss: 0.0428Epoch 00004: val_loss improved from 0.05120 to 0.04889, saving model to exp_for_paper_cnn_4.hdf5\n",
      "557803/557803 [==============================] - 19s - loss: 0.0428 - val_loss: 0.0489\n",
      "Epoch 6/30\n",
      "557000/557803 [============================>.] - ETA: 0s - loss: 0.0410Epoch 00005: val_loss did not improve\n",
      "557803/557803 [==============================] - 19s - loss: 0.0410 - val_loss: 0.0507\n",
      "Epoch 7/30\n",
      "557000/557803 [============================>.] - ETA: 0s - loss: 0.0397Epoch 00006: val_loss improved from 0.04889 to 0.04677, saving model to exp_for_paper_cnn_4.hdf5\n",
      "557803/557803 [==============================] - 19s - loss: 0.0397 - val_loss: 0.0468\n",
      "Epoch 8/30\n",
      "557000/557803 [============================>.] - ETA: 0s - loss: 0.0386Epoch 00007: val_loss did not improve\n",
      "557803/557803 [==============================] - 19s - loss: 0.0386 - val_loss: 0.0480\n",
      "Epoch 9/30\n",
      "557000/557803 [============================>.] - ETA: 0s - loss: 0.0378Epoch 00008: val_loss did not improve\n",
      "557803/557803 [==============================] - 19s - loss: 0.0378 - val_loss: 0.0487\n",
      "Epoch 10/30\n",
      "557000/557803 [============================>.] - ETA: 0s - loss: 0.0362Epoch 00009: val_loss improved from 0.04677 to 0.04633, saving model to exp_for_paper_cnn_4.hdf5\n",
      "557803/557803 [==============================] - 19s - loss: 0.0362 - val_loss: 0.0463\n",
      "Epoch 11/30\n",
      "557000/557803 [============================>.] - ETA: 0s - loss: 0.0353Epoch 00010: val_loss did not improve\n",
      "557803/557803 [==============================] - 19s - loss: 0.0353 - val_loss: 0.0494\n",
      "Epoch 12/30\n",
      "557000/557803 [============================>.] - ETA: 0s - loss: 0.0345Epoch 00011: val_loss did not improve\n",
      "557803/557803 [==============================] - 19s - loss: 0.0345 - val_loss: 0.0485\n",
      "Epoch 13/30\n",
      "557000/557803 [============================>.] - ETA: 0s - loss: 0.0347Epoch 00012: val_loss did not improve\n",
      "557803/557803 [==============================] - 19s - loss: 0.0347 - val_loss: 0.0482\n",
      "Epoch 14/30\n",
      "557000/557803 [============================>.] - ETA: 0s - loss: 0.0341Epoch 00013: val_loss did not improve\n",
      "557803/557803 [==============================] - 19s - loss: 0.0341 - val_loss: 0.0497\n",
      "Epoch 15/30\n",
      "557000/557803 [============================>.] - ETA: 0s - loss: 0.0334Epoch 00014: val_loss did not improve\n",
      "557803/557803 [==============================] - 19s - loss: 0.0334 - val_loss: 0.0567\n",
      "Epoch 16/30\n",
      "557000/557803 [============================>.] - ETA: 0s - loss: 0.0327Epoch 00015: val_loss did not improve\n",
      "557803/557803 [==============================] - 19s - loss: 0.0327 - val_loss: 0.0563\n",
      "Epoch 17/30\n",
      "557000/557803 [============================>.] - ETA: 0s - loss: 0.0331Epoch 00016: val_loss did not improve\n",
      "557803/557803 [==============================] - 19s - loss: 0.0331 - val_loss: 0.0496\n",
      "Epoch 18/30\n",
      "557000/557803 [============================>.] - ETA: 0s - loss: 0.0330Epoch 00017: val_loss did not improve\n",
      "557803/557803 [==============================] - 19s - loss: 0.0330 - val_loss: 0.0483\n",
      "Epoch 19/30\n",
      "436000/557803 [======================>.......] - ETA: 3s - loss: 0.0322"
     ]
    },
    {
     "ename": "KeyboardInterrupt",
     "evalue": "",
     "output_type": "error",
     "traceback": [
      "\u001b[0;31m---------------------------------------------------------------------------\u001b[0m",
      "\u001b[0;31mKeyboardInterrupt\u001b[0m                         Traceback (most recent call last)",
      "\u001b[0;32m<ipython-input-18-0e13a1e2c511>\u001b[0m in \u001b[0;36m<module>\u001b[0;34m()\u001b[0m\n\u001b[1;32m     27\u001b[0m \u001b[0;34m\u001b[0m\u001b[0m\n\u001b[1;32m     28\u001b[0m model.fit(X_train[:, :, :], y_train, batch_size=1000, nb_epoch=30, \n\u001b[0;32m---> 29\u001b[0;31m           validation_data=(X_val[:, :, :], y_val), callbacks=[checkpointer])\n\u001b[0m",
      "\u001b[0;32m/usr/local/lib/python3.5/dist-packages/keras/models.py\u001b[0m in \u001b[0;36mfit\u001b[0;34m(self, x, y, batch_size, nb_epoch, verbose, callbacks, validation_split, validation_data, shuffle, class_weight, sample_weight, **kwargs)\u001b[0m\n\u001b[1;32m    618\u001b[0m                               \u001b[0mshuffle\u001b[0m\u001b[0;34m=\u001b[0m\u001b[0mshuffle\u001b[0m\u001b[0;34m,\u001b[0m\u001b[0;34m\u001b[0m\u001b[0m\n\u001b[1;32m    619\u001b[0m                               \u001b[0mclass_weight\u001b[0m\u001b[0;34m=\u001b[0m\u001b[0mclass_weight\u001b[0m\u001b[0;34m,\u001b[0m\u001b[0;34m\u001b[0m\u001b[0m\n\u001b[0;32m--> 620\u001b[0;31m                               sample_weight=sample_weight)\n\u001b[0m\u001b[1;32m    621\u001b[0m \u001b[0;34m\u001b[0m\u001b[0m\n\u001b[1;32m    622\u001b[0m     def evaluate(self, x, y, batch_size=32, verbose=1,\n",
      "\u001b[0;32m/usr/local/lib/python3.5/dist-packages/keras/engine/training.py\u001b[0m in \u001b[0;36mfit\u001b[0;34m(self, x, y, batch_size, nb_epoch, verbose, callbacks, validation_split, validation_data, shuffle, class_weight, sample_weight)\u001b[0m\n\u001b[1;32m   1104\u001b[0m                               \u001b[0mverbose\u001b[0m\u001b[0;34m=\u001b[0m\u001b[0mverbose\u001b[0m\u001b[0;34m,\u001b[0m \u001b[0mcallbacks\u001b[0m\u001b[0;34m=\u001b[0m\u001b[0mcallbacks\u001b[0m\u001b[0;34m,\u001b[0m\u001b[0;34m\u001b[0m\u001b[0m\n\u001b[1;32m   1105\u001b[0m                               \u001b[0mval_f\u001b[0m\u001b[0;34m=\u001b[0m\u001b[0mval_f\u001b[0m\u001b[0;34m,\u001b[0m \u001b[0mval_ins\u001b[0m\u001b[0;34m=\u001b[0m\u001b[0mval_ins\u001b[0m\u001b[0;34m,\u001b[0m \u001b[0mshuffle\u001b[0m\u001b[0;34m=\u001b[0m\u001b[0mshuffle\u001b[0m\u001b[0;34m,\u001b[0m\u001b[0;34m\u001b[0m\u001b[0m\n\u001b[0;32m-> 1106\u001b[0;31m                               callback_metrics=callback_metrics)\n\u001b[0m\u001b[1;32m   1107\u001b[0m \u001b[0;34m\u001b[0m\u001b[0m\n\u001b[1;32m   1108\u001b[0m     \u001b[0;32mdef\u001b[0m \u001b[0mevaluate\u001b[0m\u001b[0;34m(\u001b[0m\u001b[0mself\u001b[0m\u001b[0;34m,\u001b[0m \u001b[0mx\u001b[0m\u001b[0;34m,\u001b[0m \u001b[0my\u001b[0m\u001b[0;34m,\u001b[0m \u001b[0mbatch_size\u001b[0m\u001b[0;34m=\u001b[0m\u001b[0;36m32\u001b[0m\u001b[0;34m,\u001b[0m \u001b[0mverbose\u001b[0m\u001b[0;34m=\u001b[0m\u001b[0;36m1\u001b[0m\u001b[0;34m,\u001b[0m \u001b[0msample_weight\u001b[0m\u001b[0;34m=\u001b[0m\u001b[0;32mNone\u001b[0m\u001b[0;34m)\u001b[0m\u001b[0;34m:\u001b[0m\u001b[0;34m\u001b[0m\u001b[0m\n",
      "\u001b[0;32m/usr/local/lib/python3.5/dist-packages/keras/engine/training.py\u001b[0m in \u001b[0;36m_fit_loop\u001b[0;34m(self, f, ins, out_labels, batch_size, nb_epoch, verbose, callbacks, val_f, val_ins, shuffle, callback_metrics)\u001b[0m\n\u001b[1;32m    822\u001b[0m                 \u001b[0mbatch_logs\u001b[0m\u001b[0;34m[\u001b[0m\u001b[0;34m'size'\u001b[0m\u001b[0;34m]\u001b[0m \u001b[0;34m=\u001b[0m \u001b[0mlen\u001b[0m\u001b[0;34m(\u001b[0m\u001b[0mbatch_ids\u001b[0m\u001b[0;34m)\u001b[0m\u001b[0;34m\u001b[0m\u001b[0m\n\u001b[1;32m    823\u001b[0m                 \u001b[0mcallbacks\u001b[0m\u001b[0;34m.\u001b[0m\u001b[0mon_batch_begin\u001b[0m\u001b[0;34m(\u001b[0m\u001b[0mbatch_index\u001b[0m\u001b[0;34m,\u001b[0m \u001b[0mbatch_logs\u001b[0m\u001b[0;34m)\u001b[0m\u001b[0;34m\u001b[0m\u001b[0m\n\u001b[0;32m--> 824\u001b[0;31m                 \u001b[0mouts\u001b[0m \u001b[0;34m=\u001b[0m \u001b[0mf\u001b[0m\u001b[0;34m(\u001b[0m\u001b[0mins_batch\u001b[0m\u001b[0;34m)\u001b[0m\u001b[0;34m\u001b[0m\u001b[0m\n\u001b[0m\u001b[1;32m    825\u001b[0m                 \u001b[0;32mif\u001b[0m \u001b[0mtype\u001b[0m\u001b[0;34m(\u001b[0m\u001b[0mouts\u001b[0m\u001b[0;34m)\u001b[0m \u001b[0;34m!=\u001b[0m \u001b[0mlist\u001b[0m\u001b[0;34m:\u001b[0m\u001b[0;34m\u001b[0m\u001b[0m\n\u001b[1;32m    826\u001b[0m                     \u001b[0mouts\u001b[0m \u001b[0;34m=\u001b[0m \u001b[0;34m[\u001b[0m\u001b[0mouts\u001b[0m\u001b[0;34m]\u001b[0m\u001b[0;34m\u001b[0m\u001b[0m\n",
      "\u001b[0;32m/usr/local/lib/python3.5/dist-packages/keras/backend/theano_backend.py\u001b[0m in \u001b[0;36m__call__\u001b[0;34m(self, inputs)\u001b[0m\n\u001b[1;32m    715\u001b[0m     \u001b[0;32mdef\u001b[0m \u001b[0m__call__\u001b[0m\u001b[0;34m(\u001b[0m\u001b[0mself\u001b[0m\u001b[0;34m,\u001b[0m \u001b[0minputs\u001b[0m\u001b[0;34m)\u001b[0m\u001b[0;34m:\u001b[0m\u001b[0;34m\u001b[0m\u001b[0m\n\u001b[1;32m    716\u001b[0m         \u001b[0;32massert\u001b[0m \u001b[0mtype\u001b[0m\u001b[0;34m(\u001b[0m\u001b[0minputs\u001b[0m\u001b[0;34m)\u001b[0m \u001b[0;32min\u001b[0m \u001b[0;34m{\u001b[0m\u001b[0mlist\u001b[0m\u001b[0;34m,\u001b[0m \u001b[0mtuple\u001b[0m\u001b[0;34m}\u001b[0m\u001b[0;34m\u001b[0m\u001b[0m\n\u001b[0;32m--> 717\u001b[0;31m         \u001b[0;32mreturn\u001b[0m \u001b[0mself\u001b[0m\u001b[0;34m.\u001b[0m\u001b[0mfunction\u001b[0m\u001b[0;34m(\u001b[0m\u001b[0;34m*\u001b[0m\u001b[0minputs\u001b[0m\u001b[0;34m)\u001b[0m\u001b[0;34m\u001b[0m\u001b[0m\n\u001b[0m\u001b[1;32m    718\u001b[0m \u001b[0;34m\u001b[0m\u001b[0m\n\u001b[1;32m    719\u001b[0m \u001b[0;34m\u001b[0m\u001b[0m\n",
      "\u001b[0;32m/usr/local/lib/python3.5/dist-packages/theano/compile/function_module.py\u001b[0m in \u001b[0;36m__call__\u001b[0;34m(self, *args, **kwargs)\u001b[0m\n\u001b[1;32m    857\u001b[0m         \u001b[0mt0_fn\u001b[0m \u001b[0;34m=\u001b[0m \u001b[0mtime\u001b[0m\u001b[0;34m.\u001b[0m\u001b[0mtime\u001b[0m\u001b[0;34m(\u001b[0m\u001b[0;34m)\u001b[0m\u001b[0;34m\u001b[0m\u001b[0m\n\u001b[1;32m    858\u001b[0m         \u001b[0;32mtry\u001b[0m\u001b[0;34m:\u001b[0m\u001b[0;34m\u001b[0m\u001b[0m\n\u001b[0;32m--> 859\u001b[0;31m             \u001b[0moutputs\u001b[0m \u001b[0;34m=\u001b[0m \u001b[0mself\u001b[0m\u001b[0;34m.\u001b[0m\u001b[0mfn\u001b[0m\u001b[0;34m(\u001b[0m\u001b[0;34m)\u001b[0m\u001b[0;34m\u001b[0m\u001b[0m\n\u001b[0m\u001b[1;32m    860\u001b[0m         \u001b[0;32mexcept\u001b[0m \u001b[0mException\u001b[0m\u001b[0;34m:\u001b[0m\u001b[0;34m\u001b[0m\u001b[0m\n\u001b[1;32m    861\u001b[0m             \u001b[0;32mif\u001b[0m \u001b[0mhasattr\u001b[0m\u001b[0;34m(\u001b[0m\u001b[0mself\u001b[0m\u001b[0;34m.\u001b[0m\u001b[0mfn\u001b[0m\u001b[0;34m,\u001b[0m \u001b[0;34m'position_of_error'\u001b[0m\u001b[0;34m)\u001b[0m\u001b[0;34m:\u001b[0m\u001b[0;34m\u001b[0m\u001b[0m\n",
      "\u001b[0;32m/usr/local/lib/python3.5/dist-packages/theano/gof/op.py\u001b[0m in \u001b[0;36mrval\u001b[0;34m(p, i, o, n)\u001b[0m\n\u001b[1;32m    909\u001b[0m         \u001b[0;32mif\u001b[0m \u001b[0mparams\u001b[0m \u001b[0;32mis\u001b[0m \u001b[0mgraph\u001b[0m\u001b[0;34m.\u001b[0m\u001b[0mNoParams\u001b[0m\u001b[0;34m:\u001b[0m\u001b[0;34m\u001b[0m\u001b[0m\n\u001b[1;32m    910\u001b[0m             \u001b[0;31m# default arguments are stored in the closure of `rval`\u001b[0m\u001b[0;34m\u001b[0m\u001b[0;34m\u001b[0m\u001b[0m\n\u001b[0;32m--> 911\u001b[0;31m             \u001b[0;32mdef\u001b[0m \u001b[0mrval\u001b[0m\u001b[0;34m(\u001b[0m\u001b[0mp\u001b[0m\u001b[0;34m=\u001b[0m\u001b[0mp\u001b[0m\u001b[0;34m,\u001b[0m \u001b[0mi\u001b[0m\u001b[0;34m=\u001b[0m\u001b[0mnode_input_storage\u001b[0m\u001b[0;34m,\u001b[0m \u001b[0mo\u001b[0m\u001b[0;34m=\u001b[0m\u001b[0mnode_output_storage\u001b[0m\u001b[0;34m,\u001b[0m \u001b[0mn\u001b[0m\u001b[0;34m=\u001b[0m\u001b[0mnode\u001b[0m\u001b[0;34m)\u001b[0m\u001b[0;34m:\u001b[0m\u001b[0;34m\u001b[0m\u001b[0m\n\u001b[0m\u001b[1;32m    912\u001b[0m                 \u001b[0mr\u001b[0m \u001b[0;34m=\u001b[0m \u001b[0mp\u001b[0m\u001b[0;34m(\u001b[0m\u001b[0mn\u001b[0m\u001b[0;34m,\u001b[0m \u001b[0;34m[\u001b[0m\u001b[0mx\u001b[0m\u001b[0;34m[\u001b[0m\u001b[0;36m0\u001b[0m\u001b[0;34m]\u001b[0m \u001b[0;32mfor\u001b[0m \u001b[0mx\u001b[0m \u001b[0;32min\u001b[0m \u001b[0mi\u001b[0m\u001b[0;34m]\u001b[0m\u001b[0;34m,\u001b[0m \u001b[0mo\u001b[0m\u001b[0;34m)\u001b[0m\u001b[0;34m\u001b[0m\u001b[0m\n\u001b[1;32m    913\u001b[0m                 \u001b[0;32mfor\u001b[0m \u001b[0mo\u001b[0m \u001b[0;32min\u001b[0m \u001b[0mnode\u001b[0m\u001b[0;34m.\u001b[0m\u001b[0moutputs\u001b[0m\u001b[0;34m:\u001b[0m\u001b[0;34m\u001b[0m\u001b[0m\n",
      "\u001b[0;31mKeyboardInterrupt\u001b[0m: "
     ]
    }
   ],
   "source": [
    "checkpointer = ModelCheckpoint(filepath=\"exp_for_paper_cnn_4.hdf5\", \n",
    "                               verbose=1, save_best_only=True)\n",
    "\n",
    "numbers_filter = 30\n",
    "filter_length = 5\n",
    "in_out_neurons = 1\n",
    "hidden_neurons = 500\n",
    "\n",
    "model = Sequential()\n",
    "model.add(Convolution1D(numbers_filter, filter_length, init='uniform', activation='relu', border_mode='valid', \n",
    "                       input_shape=X_train.shape[1:]))\n",
    "model.add(Convolution1D(numbers_filter, filter_length, init='uniform', activation='relu', border_mode='valid'))\n",
    "model.add(MaxPooling1D(10))\n",
    "model.add(Dropout(0.25))\n",
    "# model.add(LSTM(hidden_neurons, input_dim=4, return_sequences=False))\n",
    "# model.add(Dense(in_out_neurons, input_dim=hidden_neurons))\n",
    "# model.add(Activation(\"sigmoid\"))\n",
    "model.add(Flatten())\n",
    "model.add(Dense(300))\n",
    "model.add(Activation(\"sigmoid\"))\n",
    "model.add(Dense(1))\n",
    "model.add(Activation(\"sigmoid\"))\n",
    "model.compile(loss=\"mean_squared_error\", optimizer=\"Adam\")\n",
    "# model.compile(loss=\"mean_squared_error\", optimizer=\"rmsprop\")\n",
    "\n",
    "# model.load_weights('exp_for_paper_cnn_2.hdf5')\n",
    "\n",
    "model.fit(X_train[:, :, :], y_train, batch_size=1000, nb_epoch=30, \n",
    "          validation_data=(X_val[:, :, :], y_val), callbacks=[checkpointer])\n"
   ]
  },
  {
   "cell_type": "code",
   "execution_count": 148,
   "metadata": {
    "collapsed": true,
    "deletable": true,
    "editable": true
   },
   "outputs": [],
   "source": [
    "predicted = model.predict(X_test)"
   ]
  },
  {
   "cell_type": "code",
   "execution_count": 46,
   "metadata": {
    "collapsed": true,
    "deletable": true,
    "editable": true
   },
   "outputs": [],
   "source": [
    "from keras.models import Sequential\n",
    "from keras.layers.core import Dense, Activation\n",
    "from keras.layers.recurrent import LSTM\n",
    "from  keras.callbacks import ModelCheckpoint\n",
    "\n",
    "model = Sequential()\n",
    "\n",
    "in_out_neurons = 1\n",
    "hidden_neurons = 100\n",
    "\n",
    "model = Sequential()\n",
    "model.add(LSTM(hidden_neurons, input_dim=5, return_sequences=False))\n",
    "model.add(Dense(in_out_neurons, input_dim=hidden_neurons))\n",
    "model.add(Activation(\"sigmoid\"))\n",
    "model.compile(loss=\"mean_squared_error\", optimizer=\"rmsprop\")\n",
    "\n",
    "model.load_weights('weights_features_step_1_with_val_h_100_step_200_sigmoid_mean_sq_epoch_500.hdf5')"
   ]
  },
  {
   "cell_type": "code",
   "execution_count": 146,
   "metadata": {
    "collapsed": false,
    "deletable": true,
    "editable": true
   },
   "outputs": [
    {
     "ename": "AttributeError",
     "evalue": "'Sequential' object has no attribute '_predict'",
     "output_type": "error",
     "traceback": [
      "\u001b[1;31m---------------------------------------------------------------------------\u001b[0m",
      "\u001b[1;31mAttributeError\u001b[0m                            Traceback (most recent call last)",
      "\u001b[1;32m<ipython-input-146-21c2e8c918c9>\u001b[0m in \u001b[0;36m<module>\u001b[1;34m()\u001b[0m\n\u001b[1;32m----> 1\u001b[1;33m \u001b[0mpredicted\u001b[0m \u001b[1;33m=\u001b[0m \u001b[0mmodel\u001b[0m\u001b[1;33m.\u001b[0m\u001b[0mpredict\u001b[0m\u001b[1;33m(\u001b[0m\u001b[0mX_test\u001b[0m\u001b[1;33m)\u001b[0m\u001b[1;33m\u001b[0m\u001b[0m\n\u001b[0m",
      "\u001b[1;32m/usr/local/lib/python3.4/dist-packages/keras/models.py\u001b[0m in \u001b[0;36mpredict\u001b[1;34m(self, X, batch_size, verbose)\u001b[0m\n\u001b[0;32m    659\u001b[0m         '''\n\u001b[0;32m    660\u001b[0m         \u001b[0mX\u001b[0m \u001b[1;33m=\u001b[0m \u001b[0mstandardize_X\u001b[0m\u001b[1;33m(\u001b[0m\u001b[0mX\u001b[0m\u001b[1;33m)\u001b[0m\u001b[1;33m\u001b[0m\u001b[0m\n\u001b[1;32m--> 661\u001b[1;33m         \u001b[1;32mreturn\u001b[0m \u001b[0mself\u001b[0m\u001b[1;33m.\u001b[0m\u001b[0m_predict_loop\u001b[0m\u001b[1;33m(\u001b[0m\u001b[0mself\u001b[0m\u001b[1;33m.\u001b[0m\u001b[0m_predict\u001b[0m\u001b[1;33m,\u001b[0m \u001b[0mX\u001b[0m\u001b[1;33m,\u001b[0m \u001b[0mbatch_size\u001b[0m\u001b[1;33m,\u001b[0m \u001b[0mverbose\u001b[0m\u001b[1;33m)\u001b[0m\u001b[1;33m[\u001b[0m\u001b[1;36m0\u001b[0m\u001b[1;33m]\u001b[0m\u001b[1;33m\u001b[0m\u001b[0m\n\u001b[0m\u001b[0;32m    662\u001b[0m \u001b[1;33m\u001b[0m\u001b[0m\n\u001b[0;32m    663\u001b[0m     \u001b[1;32mdef\u001b[0m \u001b[0mpredict_proba\u001b[0m\u001b[1;33m(\u001b[0m\u001b[0mself\u001b[0m\u001b[1;33m,\u001b[0m \u001b[0mX\u001b[0m\u001b[1;33m,\u001b[0m \u001b[0mbatch_size\u001b[0m\u001b[1;33m=\u001b[0m\u001b[1;36m128\u001b[0m\u001b[1;33m,\u001b[0m \u001b[0mverbose\u001b[0m\u001b[1;33m=\u001b[0m\u001b[1;36m1\u001b[0m\u001b[1;33m)\u001b[0m\u001b[1;33m:\u001b[0m\u001b[1;33m\u001b[0m\u001b[0m\n",
      "\u001b[1;31mAttributeError\u001b[0m: 'Sequential' object has no attribute '_predict'"
     ]
    }
   ],
   "source": [
    "predicted = model.predict(X_test)"
   ]
  },
  {
   "cell_type": "code",
   "execution_count": 136,
   "metadata": {
    "collapsed": false,
    "deletable": true,
    "editable": true
   },
   "outputs": [],
   "source": [
    "rate = 0.3\n",
    "\n",
    "\n",
    "binary_predicted = np.zeros((predicted.shape))\n",
    "binary_predicted[predicted < rate] = 0\n",
    "binary_predicted[predicted >= rate] = 1\n",
    "\n",
    "res = binary_predicted - y_test\n",
    "fn = len(res[res == -1])*1./len(y_test)\n",
    "fp = len(res[res == 1])*1./len(y_test)\n",
    "tp = len(res[np.array((res == 0, y_test == 1)).all(axis = 0)])*1./len(y_test)\n",
    "tn = len(res[np.array((res == 0, y_test == 0)).all(axis = 0)])*1./len(y_test)"
   ]
  },
  {
   "cell_type": "code",
   "execution_count": 137,
   "metadata": {
    "collapsed": false,
    "deletable": true,
    "editable": true
   },
   "outputs": [
    {
     "name": "stdout",
     "output_type": "stream",
     "text": [
      "0.030769746434496974 0.07619702022825924 0.2567799024619149 0.6362533308753289\n",
      "acc 0.8930332333372437 tpr 0.8929932741959925 tnr 0.8930493611095429\n"
     ]
    }
   ],
   "source": [
    "print(fn, fp, tp, tn)\n",
    "print ('acc', tp+tn, 'tpr', tp/(tp+fn), 'tnr', tn/(tn+fp))"
   ]
  },
  {
   "cell_type": "code",
   "execution_count": 47,
   "metadata": {
    "collapsed": false,
    "deletable": true,
    "editable": true
   },
   "outputs": [
    {
     "name": "stdout",
     "output_type": "stream",
     "text": [
      "0.036980659615828144 0.060538367763829856 0.2437876840960759 0.6586932885242661\n",
      "acc 0.902480972620342 tpr 0.8682876455125798 tnr 0.9158291111986587\n"
     ]
    }
   ],
   "source": [
    "print(fn, fp, tp, tn)\n",
    "print ('acc', tp+tn, 'tpr', tp/(tp+fn), 'tnr', tn/(tn+fp))"
   ]
  },
  {
   "cell_type": "code",
   "execution_count": null,
   "metadata": {
    "collapsed": false,
    "deletable": true,
    "editable": true,
    "scrolled": true
   },
   "outputs": [],
   "source": [
    "for i, y_i in enumerate(binary_predicted):\n",
    "    if y_i[0] == 1:\n",
    "        print '0', i\n",
    "    if y_i[1] == 1:\n",
    "        print '1', i"
   ]
  },
  {
   "cell_type": "code",
   "execution_count": null,
   "metadata": {
    "collapsed": false,
    "deletable": true,
    "editable": true
   },
   "outputs": [],
   "source": [
    "y_test[55280:55310]"
   ]
  },
  {
   "cell_type": "code",
   "execution_count": null,
   "metadata": {
    "collapsed": false,
    "deletable": true,
    "editable": true
   },
   "outputs": [],
   "source": [
    "print(fn, fp, tp, tn)\n",
    "print ('acc', tp+tn, 'tpr', tp/(tp+fn), 'tnr', tn/(tn+fp))"
   ]
  },
  {
   "cell_type": "markdown",
   "metadata": {
    "deletable": true,
    "editable": true
   },
   "source": [
    "test with morhpology"
   ]
  },
  {
   "cell_type": "code",
   "execution_count": 41,
   "metadata": {
    "collapsed": false,
    "deletable": true,
    "editable": true
   },
   "outputs": [
    {
     "name": "stdout",
     "output_type": "stream",
     "text": [
      "615\n"
     ]
    }
   ],
   "source": [
    "one_ = 0\n",
    "max_ = 0\n",
    "for i in binary_predicted:\n",
    "    if i == 1:\n",
    "        max_ = max_ + 1\n",
    "    else:\n",
    "        if max_ < 30 and max_ > 0:\n",
    "            one_ = one_ + 1\n",
    "        max_ = 0\n",
    "        \n",
    "print (one_)"
   ]
  },
  {
   "cell_type": "code",
   "execution_count": 49,
   "metadata": {
    "collapsed": true,
    "deletable": true,
    "editable": true
   },
   "outputs": [],
   "source": [
    "new_predicted = np.zeros((binary_predicted.shape))\n",
    "\n",
    "import scipy.ndimage.morphology as morphology\n",
    "new_predicted = morphology.grey_opening(binary_predicted, size=10)\n",
    "new_predicted = morphology.grey_closing(new_predicted, size=50)\n",
    "\n",
    "res = new_predicted - y_test\n",
    "fn = len(res[res == -1])*1./len(y_test)\n",
    "fp = len(res[res == 1])*1./len(y_test)\n",
    "tp = len(res[np.array((res == 0, y_test == 1)).all(axis = 0)])*1./len(y_test)\n",
    "tn = len(res[np.array((res == 0, y_test == 0)).all(axis = 0)])*1./len(y_test)"
   ]
  },
  {
   "cell_type": "code",
   "execution_count": 50,
   "metadata": {
    "collapsed": false,
    "deletable": true,
    "editable": true
   },
   "outputs": [
    {
     "name": "stdout",
     "output_type": "stream",
     "text": [
      "0.037613258212250006 0.05755988270567691 0.24315508549965406 0.661671773582419\n",
      "acc 0.904826859082073 tpr 0.8660345475028164 tnr 0.9199703152629023\n"
     ]
    }
   ],
   "source": [
    "print(fn, fp, tp, tn)\n",
    "print ('acc', tp+tn, 'tpr', tp/(tp+fn), 'tnr', tn/(tn+fp))"
   ]
  },
  {
   "cell_type": "markdown",
   "metadata": {
    "collapsed": true,
    "deletable": true,
    "editable": true
   },
   "source": [
    "test 1 gidn"
   ]
  },
  {
   "cell_type": "code",
   "execution_count": null,
   "metadata": {
    "collapsed": false,
    "deletable": true,
    "editable": true
   },
   "outputs": [],
   "source": [
    "i = te_gidn[111]\n",
    "x_test_small = np.hstack([x_with_feature[i], begin_gidn[i][:len(x_with_feature[i])]])\n",
    "x_test_small_ltsm, y_test_small_ltsm = data_for_lstm(x_test_small, y_with_feature[i])\n",
    "predicted_small = model.predict(x_test_small_ltsm)\n",
    "\n",
    "\n",
    "rate = 0.5\n",
    "\n",
    "predicted_small[predicted_small < rate] = 0\n",
    "predicted_small[predicted_small >= rate] = 1\n",
    "\n",
    "new_predicted = np.zeros((predicted.shape))\n",
    "\n",
    "import scipy.ndimage.morphology as morphology\n",
    "new_predicted = morphology.grey_opening(predicted_small, size=10)\n",
    "new_predicted = morphology.grey_closing(new_predicted, size=50)"
   ]
  },
  {
   "cell_type": "code",
   "execution_count": null,
   "metadata": {
    "collapsed": true,
    "deletable": true,
    "editable": true
   },
   "outputs": [],
   "source": [
    "np.hstack((predicted_small, y_test_small_ltsm))[500:1000]"
   ]
  },
  {
   "cell_type": "markdown",
   "metadata": {
    "deletable": true,
    "editable": true
   },
   "source": [
    "count erroro"
   ]
  },
  {
   "cell_type": "code",
   "execution_count": 51,
   "metadata": {
    "collapsed": true,
    "deletable": true,
    "editable": true
   },
   "outputs": [
    {
     "name": "stdout",
     "output_type": "stream",
     "text": [
      "[ 0.] [ 0.]\n",
      "[ 0.] [ 0.]\n",
      "[ 0.] [ 0.]\n",
      "[ 0.] [ 0.]\n",
      "[ 0.] [ 0.]\n",
      "[ 0.] [ 0.]\n",
      "[ 0.] [ 0.]\n",
      "[ 0.] [ 0.]\n",
      "[ 0.] [ 0.]\n",
      "[ 0.] [ 0.]\n",
      "[ 0.] [ 0.]\n",
      "[ 0.] [ 0.]\n",
      "[ 0.] [ 0.]\n",
      "[ 0.] [ 0.]\n",
      "[ 0.] [ 0.]\n",
      "[ 0.] [ 0.]\n",
      "[ 0.] [ 0.]\n",
      "[ 0.] [ 0.]\n",
      "[ 0.] [ 0.]\n",
      "[ 0.] [ 0.]\n",
      "[ 0.] [ 0.]\n",
      "[ 0.] [ 0.]\n",
      "[ 0.] [ 0.]\n",
      "[ 0.] [ 0.]\n",
      "[ 0.] [ 0.]\n",
      "[ 0.] [ 0.]\n",
      "[ 0.] [ 0.]\n",
      "[ 0.] [ 0.]\n",
      "[ 0.] [ 0.]\n",
      "[ 0.] [ 0.]\n",
      "[ 0.] [ 0.]\n",
      "[ 0.] [ 0.]\n",
      "[ 0.] [ 0.]\n",
      "[ 0.] [ 0.]\n",
      "[ 0.] [ 0.]\n",
      "[ 0.] [ 0.]\n",
      "[ 0.] [ 0.]\n",
      "[ 0.] [ 0.]\n",
      "[ 0.] [ 0.]\n",
      "[ 0.] [ 0.]\n",
      "[ 0.] [ 0.]\n",
      "[ 0.] [ 0.]\n",
      "[ 0.] [ 0.]\n",
      "[ 0.] [ 0.]\n",
      "[ 0.] [ 0.]\n",
      "[ 0.] [ 0.]\n",
      "[ 0.] [ 0.]\n",
      "[ 0.] [ 0.]\n",
      "[ 0.] [ 0.]\n",
      "[ 0.] [ 0.]\n",
      "[ 0.] [ 0.]\n",
      "[ 0.] [ 0.]\n",
      "[ 0.] [ 0.]\n",
      "[ 0.] [ 0.]\n",
      "[ 0.] [ 0.]\n",
      "[ 0.] [ 0.]\n",
      "[ 0.] [ 0.]\n",
      "[ 0.] [ 0.]\n",
      "[ 0.] [ 0.]\n",
      "[ 0.] [ 0.]\n",
      "[ 0.] [ 0.]\n",
      "[ 0.] [ 0.]\n",
      "[ 0.] [ 0.]\n",
      "[ 0.] [ 0.]\n",
      "[ 0.] [ 0.]\n",
      "[ 0.] [ 0.]\n",
      "[ 0.] [ 0.]\n",
      "[ 0.] [ 0.]\n",
      "[ 0.] [ 0.]\n",
      "[ 0.] [ 0.]\n",
      "[ 0.] [ 0.]\n",
      "[ 0.] [ 0.]\n",
      "[ 0.] [ 0.]\n",
      "[ 0.] [ 0.]\n",
      "[ 0.] [ 0.]\n",
      "[ 0.] [ 0.]\n",
      "[ 0.] [ 0.]\n",
      "[ 0.] [ 0.]\n",
      "[ 0.] [ 0.]\n",
      "[ 0.] [ 0.]\n",
      "[ 0.] [ 0.]\n",
      "[ 0.] [ 0.]\n",
      "[ 0.] [ 0.]\n",
      "[ 0.] [ 0.]\n",
      "[ 0.] [ 0.]\n",
      "[ 0.] [ 0.]\n",
      "[ 0.] [ 0.]\n",
      "[ 0.] [ 0.]\n",
      "[ 0.] [ 0.]\n",
      "[ 0.] [ 0.]\n",
      "[ 0.] [ 0.]\n",
      "[ 0.] [ 0.]\n",
      "[ 0.] [ 0.]\n",
      "[ 0.] [ 0.]\n",
      "[ 0.] [ 0.]\n",
      "[ 0.] [ 0.]\n",
      "[ 0.] [ 0.]\n",
      "[ 0.] [ 0.]\n",
      "[ 0.] [ 0.]\n",
      "[ 0.] [ 0.]\n",
      "[ 0.] [ 0.]\n",
      "[ 0.] [ 0.]\n",
      "[ 0.] [ 0.]\n",
      "[ 1.] [ 0.]\n",
      "[ 1.] [ 0.]\n",
      "[ 1.] [ 0.]\n",
      "[ 1.] [ 0.]\n",
      "[ 1.] [ 0.]\n",
      "[ 1.] [ 0.]\n",
      "[ 1.] [ 0.]\n",
      "[ 1.] [ 0.]\n",
      "[ 1.] [ 0.]\n",
      "[ 1.] [ 0.]\n",
      "[ 1.] [ 0.]\n",
      "[ 1.] [ 0.]\n",
      "[ 1.] [ 0.]\n",
      "[ 1.] [ 0.]\n",
      "[ 1.] [ 0.]\n",
      "[ 1.] [ 0.]\n",
      "[ 1.] [ 0.]\n",
      "[ 1.] [ 0.]\n",
      "[ 1.] [ 0.]\n",
      "[ 1.] [ 0.]\n",
      "[ 1.] [ 0.]\n",
      "[ 1.] [ 0.]\n",
      "[ 1.] [ 0.]\n",
      "[ 1.] [ 0.]\n",
      "[ 1.] [ 0.]\n",
      "[ 1.] [ 0.]\n",
      "[ 1.] [ 0.]\n",
      "[ 1.] [ 0.]\n",
      "[ 1.] [ 0.]\n",
      "[ 1.] [ 0.]\n",
      "[ 1.] [ 0.]\n",
      "[ 1.] [ 0.]\n",
      "[ 1.] [ 0.]\n",
      "[ 1.] [ 0.]\n",
      "[ 1.] [ 0.]\n",
      "[ 1.] [ 0.]\n",
      "[ 1.] [ 0.]\n",
      "[ 1.] [ 0.]\n",
      "[ 1.] [ 0.]\n",
      "[ 1.] [ 0.]\n",
      "[ 1.] [ 0.]\n",
      "[ 1.] [ 0.]\n",
      "[ 1.] [ 0.]\n",
      "[ 1.] [ 0.]\n",
      "[ 1.] [ 0.]\n",
      "[ 1.] [ 0.]\n",
      "[ 1.] [ 0.]\n",
      "[ 1.] [ 0.]\n",
      "[ 1.] [ 0.]\n",
      "[ 1.] [ 0.]\n",
      "[ 1.] [ 0.]\n",
      "[ 1.] [ 0.]\n",
      "[ 1.] [ 0.]\n",
      "[ 1.] [ 0.]\n",
      "[ 1.] [ 0.]\n",
      "[ 1.] [ 0.]\n",
      "[ 1.] [ 0.]\n",
      "[ 1.] [ 0.]\n",
      "[ 1.] [ 0.]\n",
      "[ 1.] [ 0.]\n",
      "[ 1.] [ 0.]\n",
      "[ 1.] [ 0.]\n",
      "[ 1.] [ 0.]\n",
      "[ 1.] [ 0.]\n",
      "[ 1.] [ 0.]\n",
      "[ 1.] [ 0.]\n",
      "[ 1.] [ 0.]\n",
      "[ 1.] [ 0.]\n",
      "[ 1.] [ 0.]\n",
      "[ 1.] [ 0.]\n",
      "[ 1.] [ 0.]\n",
      "[ 1.] [ 0.]\n",
      "[ 1.] [ 0.]\n",
      "[ 1.] [ 0.]\n",
      "[ 1.] [ 0.]\n",
      "[ 1.] [ 0.]\n",
      "[ 1.] [ 0.]\n",
      "[ 1.] [ 0.]\n",
      "[ 1.] [ 0.]\n",
      "[ 1.] [ 0.]\n",
      "[ 1.] [ 0.]\n",
      "[ 1.] [ 0.]\n",
      "[ 1.] [ 0.]\n",
      "[ 1.] [ 0.]\n",
      "[ 1.] [ 0.]\n",
      "[ 1.] [ 0.]\n",
      "[ 1.] [ 0.]\n",
      "[ 1.] [ 0.]\n",
      "[ 1.] [ 0.]\n",
      "[ 1.] [ 0.]\n",
      "[ 1.] [ 0.]\n",
      "[ 1.] [ 0.]\n",
      "[ 1.] [ 0.]\n",
      "[ 1.] [ 0.]\n",
      "[ 1.] [ 0.]\n",
      "[ 1.] [ 0.]\n",
      "[ 1.] [ 0.]\n",
      "[ 1.] [ 0.]\n",
      "[ 1.] [ 0.]\n",
      "[ 1.] [ 0.]\n",
      "[ 1.] [ 0.]\n",
      "[ 1.] [ 0.]\n",
      "[ 1.] [ 0.]\n",
      "[ 1.] [ 0.]\n",
      "[ 1.] [ 0.]\n",
      "[ 1.] [ 0.]\n",
      "[ 1.] [ 0.]\n",
      "[ 1.] [ 0.]\n",
      "[ 1.] [ 0.]\n",
      "[ 1.] [ 0.]\n",
      "[ 1.] [ 0.]\n",
      "[ 1.] [ 0.]\n",
      "[ 1.] [ 0.]\n",
      "[ 1.] [ 0.]\n",
      "[ 1.] [ 0.]\n",
      "[ 1.] [ 0.]\n",
      "[ 1.] [ 0.]\n",
      "[ 1.] [ 0.]\n",
      "[ 1.] [ 0.]\n",
      "[ 1.] [ 0.]\n",
      "[ 1.] [ 0.]\n",
      "[ 1.] [ 0.]\n",
      "[ 1.] [ 0.]\n",
      "[ 1.] [ 0.]\n",
      "[ 1.] [ 0.]\n",
      "[ 1.] [ 0.]\n",
      "[ 1.] [ 0.]\n",
      "[ 1.] [ 0.]\n",
      "[ 1.] [ 0.]\n",
      "[ 1.] [ 0.]\n",
      "[ 1.] [ 0.]\n",
      "[ 1.] [ 0.]\n",
      "[ 1.] [ 0.]\n",
      "[ 1.] [ 0.]\n",
      "[ 1.] [ 0.]\n",
      "[ 1.] [ 0.]\n",
      "[ 1.] [ 0.]\n",
      "[ 1.] [ 0.]\n",
      "[ 1.] [ 0.]\n",
      "[ 1.] [ 0.]\n",
      "[ 1.] [ 0.]\n",
      "[ 1.] [ 0.]\n",
      "[ 1.] [ 0.]\n",
      "[ 1.] [ 0.]\n",
      "[ 1.] [ 0.]\n",
      "[ 1.] [ 0.]\n",
      "[ 1.] [ 0.]\n",
      "[ 1.] [ 0.]\n",
      "[ 1.] [ 0.]\n",
      "[ 1.] [ 0.]\n",
      "[ 1.] [ 0.]\n",
      "[ 1.] [ 0.]\n",
      "[ 1.] [ 0.]\n",
      "[ 1.] [ 0.]\n",
      "[ 1.] [ 0.]\n",
      "[ 1.] [ 0.]\n",
      "[ 1.] [ 0.]\n",
      "[ 1.] [ 0.]\n",
      "[ 1.] [ 0.]\n",
      "[ 1.] [ 0.]\n",
      "[ 1.] [ 0.]\n",
      "[ 1.] [ 0.]\n",
      "[ 1.] [ 0.]\n",
      "[ 1.] [ 0.]\n",
      "[ 1.] [ 0.]\n",
      "[ 1.] [ 0.]\n",
      "[ 1.] [ 0.]\n",
      "[ 1.] [ 0.]\n",
      "[ 1.] [ 0.]\n",
      "[ 1.] [ 0.]\n",
      "[ 1.] [ 0.]\n",
      "[ 1.] [ 0.]\n",
      "[ 1.] [ 0.]\n",
      "[ 1.] [ 0.]\n",
      "[ 1.] [ 0.]\n",
      "[ 1.] [ 0.]\n",
      "[ 1.] [ 0.]\n",
      "[ 1.] [ 0.]\n",
      "[ 1.] [ 0.]\n",
      "[ 1.] [ 0.]\n",
      "[ 1.] [ 0.]\n",
      "[ 1.] [ 0.]\n",
      "[ 1.] [ 0.]\n",
      "[ 1.] [ 0.]\n",
      "[ 1.] [ 0.]\n",
      "[ 1.] [ 0.]\n",
      "[ 1.] [ 0.]\n",
      "[ 1.] [ 0.]\n",
      "[ 1.] [ 0.]\n",
      "[ 1.] [ 0.]\n",
      "[ 1.] [ 0.]\n",
      "[ 1.] [ 0.]\n",
      "[ 1.] [ 0.]\n",
      "[ 1.] [ 0.]\n",
      "[ 1.] [ 0.]\n",
      "[ 1.] [ 0.]\n",
      "[ 1.] [ 0.]\n",
      "[ 1.] [ 0.]\n",
      "[ 1.] [ 0.]\n",
      "[ 1.] [ 0.]\n",
      "[ 1.] [ 0.]\n",
      "[ 1.] [ 0.]\n",
      "[ 1.] [ 0.]\n",
      "[ 1.] [ 0.]\n",
      "[ 1.] [ 0.]\n",
      "[ 1.] [ 0.]\n",
      "[ 1.] [ 0.]\n",
      "[ 1.] [ 0.]\n",
      "[ 1.] [ 0.]\n",
      "[ 1.] [ 0.]\n",
      "[ 1.] [ 0.]\n",
      "[ 1.] [ 0.]\n",
      "[ 0.] [ 0.]\n",
      "[ 0.] [ 0.]\n",
      "[ 0.] [ 0.]\n",
      "[ 0.] [ 0.]\n",
      "[ 0.] [ 0.]\n",
      "[ 0.] [ 0.]\n",
      "[ 0.] [ 0.]\n",
      "[ 0.] [ 0.]\n",
      "[ 0.] [ 0.]\n",
      "[ 0.] [ 0.]\n",
      "[ 0.] [ 0.]\n",
      "[ 0.] [ 0.]\n",
      "[ 0.] [ 0.]\n",
      "[ 0.] [ 0.]\n",
      "[ 0.] [ 0.]\n",
      "[ 0.] [ 0.]\n",
      "[ 0.] [ 0.]\n",
      "[ 0.] [ 0.]\n",
      "[ 0.] [ 0.]\n",
      "[ 0.] [ 0.]\n",
      "[ 0.] [ 0.]\n",
      "[ 0.] [ 0.]\n",
      "[ 0.] [ 0.]\n",
      "[ 0.] [ 0.]\n",
      "[ 0.] [ 0.]\n",
      "[ 0.] [ 0.]\n",
      "[ 0.] [ 0.]\n",
      "[ 0.] [ 0.]\n",
      "[ 0.] [ 0.]\n",
      "[ 0.] [ 0.]\n",
      "[ 0.] [ 0.]\n",
      "[ 0.] [ 0.]\n",
      "[ 0.] [ 0.]\n",
      "[ 0.] [ 0.]\n",
      "[ 0.] [ 0.]\n",
      "[ 0.] [ 0.]\n",
      "[ 0.] [ 0.]\n",
      "[ 0.] [ 0.]\n",
      "[ 0.] [ 0.]\n",
      "[ 0.] [ 0.]\n",
      "[ 0.] [ 0.]\n",
      "[ 0.] [ 0.]\n",
      "[ 0.] [ 0.]\n",
      "[ 0.] [ 0.]\n",
      "[ 0.] [ 0.]\n",
      "[ 0.] [ 0.]\n",
      "[ 0.] [ 0.]\n",
      "[ 0.] [ 0.]\n",
      "[ 0.] [ 0.]\n",
      "[ 0.] [ 0.]\n",
      "[ 0.] [ 0.]\n",
      "[ 0.] [ 0.]\n",
      "[ 0.] [ 0.]\n",
      "[ 0.] [ 0.]\n",
      "[ 0.] [ 0.]\n",
      "[ 0.] [ 0.]\n",
      "[ 0.] [ 0.]\n",
      "[ 0.] [ 0.]\n",
      "[ 0.] [ 0.]\n",
      "[ 0.] [ 0.]\n",
      "[ 0.] [ 0.]\n",
      "[ 0.] [ 0.]\n",
      "[ 0.] [ 0.]\n",
      "[ 0.] [ 0.]\n",
      "[ 0.] [ 0.]\n",
      "[ 0.] [ 0.]\n",
      "[ 0.] [ 0.]\n",
      "[ 0.] [ 0.]\n",
      "[ 0.] [ 0.]\n",
      "[ 0.] [ 0.]\n",
      "[ 0.] [ 0.]\n",
      "[ 0.] [ 0.]\n",
      "[ 0.] [ 0.]\n",
      "[ 0.] [ 0.]\n",
      "[ 0.] [ 0.]\n",
      "[ 0.] [ 0.]\n",
      "[ 0.] [ 0.]\n",
      "[ 0.] [ 0.]\n",
      "[ 0.] [ 0.]\n",
      "[ 0.] [ 0.]\n",
      "[ 0.] [ 0.]\n",
      "[ 0.] [ 0.]\n",
      "[ 0.] [ 0.]\n",
      "[ 0.] [ 0.]\n",
      "[ 0.] [ 0.]\n",
      "[ 0.] [ 0.]\n",
      "[ 0.] [ 0.]\n",
      "[ 0.] [ 0.]\n",
      "[ 0.] [ 0.]\n",
      "[ 0.] [ 0.]\n",
      "[ 0.] [ 0.]\n",
      "[ 0.] [ 0.]\n",
      "[ 0.] [ 0.]\n",
      "[ 0.] [ 0.]\n",
      "[ 0.] [ 0.]\n",
      "[ 0.] [ 0.]\n",
      "[ 0.] [ 0.]\n",
      "[ 0.] [ 0.]\n",
      "[ 0.] [ 0.]\n",
      "[ 0.] [ 0.]\n",
      "[ 0.] [ 0.]\n",
      "[ 0.] [ 0.]\n",
      "[ 0.] [ 0.]\n",
      "[ 0.] [ 0.]\n",
      "[ 0.] [ 0.]\n",
      "[ 0.] [ 0.]\n",
      "[ 0.] [ 0.]\n",
      "[ 0.] [ 0.]\n",
      "[ 0.] [ 0.]\n",
      "[ 0.] [ 0.]\n",
      "[ 0.] [ 0.]\n",
      "[ 0.] [ 0.]\n",
      "[ 0.] [ 0.]\n",
      "[ 0.] [ 0.]\n",
      "[ 0.] [ 0.]\n",
      "[ 0.] [ 0.]\n",
      "[ 0.] [ 0.]\n",
      "[ 0.] [ 0.]\n",
      "[ 0.] [ 0.]\n",
      "[ 0.] [ 0.]\n",
      "[ 0.] [ 0.]\n",
      "[ 0.] [ 0.]\n",
      "[ 0.] [ 0.]\n",
      "[ 0.] [ 0.]\n",
      "[ 0.] [ 0.]\n",
      "[ 0.] [ 0.]\n",
      "[ 0.] [ 0.]\n",
      "[ 0.] [ 0.]\n",
      "[ 0.] [ 0.]\n",
      "[ 0.] [ 0.]\n",
      "[ 0.] [ 0.]\n",
      "[ 0.] [ 0.]\n",
      "[ 0.] [ 0.]\n",
      "[ 0.] [ 0.]\n",
      "[ 0.] [ 0.]\n",
      "[ 0.] [ 0.]\n",
      "[ 0.] [ 0.]\n",
      "[ 0.] [ 0.]\n",
      "[ 0.] [ 0.]\n",
      "[ 0.] [ 0.]\n",
      "[ 0.] [ 0.]\n",
      "[ 0.] [ 0.]\n",
      "[ 0.] [ 0.]\n",
      "[ 0.] [ 0.]\n",
      "[ 0.] [ 0.]\n",
      "[ 0.] [ 0.]\n",
      "[ 0.] [ 0.]\n",
      "[ 0.] [ 0.]\n",
      "[ 0.] [ 0.]\n",
      "[ 0.] [ 0.]\n",
      "[ 0.] [ 0.]\n",
      "[ 0.] [ 0.]\n",
      "[ 0.] [ 0.]\n",
      "[ 0.] [ 0.]\n"
     ]
    }
   ],
   "source": [
    "err_start = []\n",
    "err_end = []\n",
    "count_start = []\n",
    "count_end = []\n",
    "i_start_exp = 0\n",
    "i_start_real = 0\n",
    "i_end_exp = 0\n",
    "i_end_real = 0\n",
    "i_count_start = 0\n",
    "i_count_end = 0\n",
    "count = 0\n",
    "x_tmp = []\n",
    "y_tmp = []\n",
    "ind_real = y_test[1:] - y_test[:-1]\n",
    "ind_exp = new_predicted[1:] - new_predicted[:-1]\n",
    "for i, start_gidn in enumerate(te_X[:, 4][100:-101]) :\n",
    "    if start_gidn == 1:\n",
    "        err_start.append(i_start_real - i_start_exp)\n",
    "        err_end.append(i_end_real - i_end_exp)\n",
    "        count_start.append(i_count_start)\n",
    "        count_end.append(i_count_end)\n",
    "        i_end_exp = 0\n",
    "        i_end_real = 0\n",
    "        i_start_exp = 0\n",
    "        i_start_real = 0\n",
    "        i_count_start = 0\n",
    "        i_count_end = 0\n",
    "        count = count + 1\n",
    "    if ind_real[i] == 1:\n",
    "        i_start_real = i+100\n",
    "    if ind_real[i] == -1:\n",
    "        i_end_real = i+100\n",
    "    if ind_exp[i] == 1:\n",
    "        i_start_exp = i+100\n",
    "        i_count_start = i_count_start + 1\n",
    "    if ind_exp[i] == -1:\n",
    "        i_end_exp = i+100\n",
    "        i_count_end = i_count_end + 1\n",
    "    if count == 197:\n",
    "        print (y_test[i+100], new_predicted[i+100])\n",
    "        x_tmp.append(X_test[i+100])\n",
    "        y_tmp.append(y_test[i+100])\n",
    "    \n",
    "err_start = np.array(err_start)\n",
    "err_end = np.array(err_end)\n"
   ]
  },
  {
   "cell_type": "code",
   "execution_count": 52,
   "metadata": {
    "collapsed": false,
    "deletable": true,
    "editable": true
   },
   "outputs": [
    {
     "data": {
      "image/png": "[encoded data removed]",
      "text/plain": [
       "<matplotlib.figure.Figure at 0x7f984e8b4f60>"
      ]
     },
     "metadata": {},
     "output_type": "display_data"
    },
    {
     "name": "stdout",
     "output_type": "stream",
     "text": [
      "27.4828767123 25.196278426\n"
     ]
    }
   ],
   "source": [
    "plt.hist(err_start[err_start < 300], 20)\n",
    "plt.show()\n",
    "print (np.mean(abs(err_start[abs(err_start) < 300])), np.std(abs(err_start[abs(err_start) < 300])))"
   ]
  },
  {
   "cell_type": "code",
   "execution_count": 53,
   "metadata": {
    "collapsed": false,
    "deletable": true,
    "editable": true
   },
   "outputs": [
    {
     "data": {
      "image/png": "[encoded data removed]",
      "text/plain": [
       "<matplotlib.figure.Figure at 0x7f9686327438>"
      ]
     },
     "metadata": {},
     "output_type": "display_data"
    },
    {
     "name": "stdout",
     "output_type": "stream",
     "text": [
      "15.9791666667 20.9425367076\n"
     ]
    }
   ],
   "source": [
    "plt.hist(err_end[abs(err_end) < 300], 50)\n",
    "plt.show()\n",
    "print (np.mean(abs(err_end[abs(err_end) < 300])), np.std(abs(err_end[abs(err_end) < 300])))"
   ]
  },
  {
   "cell_type": "code",
   "execution_count": null,
   "metadata": {
    "collapsed": true,
    "deletable": true,
    "editable": true
   },
   "outputs": [],
   "source": []
  },
  {
   "cell_type": "code",
   "execution_count": 54,
   "metadata": {
    "collapsed": false,
    "deletable": true,
    "editable": true,
    "scrolled": true
   },
   "outputs": [
    {
     "name": "stdout",
     "output_type": "stream",
     "text": [
      "41 21052 0 -15 1\n",
      "42 160 2 44 1\n",
      "66 33214 0 33077 0\n",
      "99 320 1 145 1\n",
      "113 57253 0 57101 0\n",
      "118 60083 0 59739 0\n",
      "197 99713 0 99501 0\n",
      "213 107825 0 107694 0\n",
      "220 111437 0 111345 0\n",
      "234 300 1 134 1\n",
      "267 135594 0 -26 1\n",
      "283 143542 0 143417 0\n"
     ]
    }
   ],
   "source": [
    "for i, err in enumerate(err_end):\n",
    "    if err > 100:\n",
    "        print (i, err, count_end[i], err_start[i], count_start[i])"
   ]
  },
  {
   "cell_type": "code",
   "execution_count": 55,
   "metadata": {
    "collapsed": false,
    "deletable": true,
    "editable": true
   },
   "outputs": [
    {
     "name": "stdout",
     "output_type": "stream",
     "text": [
      "66 33214 0 33077 0\n",
      "78 -20 1 112 1\n",
      "99 320 1 145 1\n",
      "113 57253 0 57101 0\n",
      "118 60083 0 59739 0\n",
      "197 99713 0 99501 0\n",
      "213 107825 0 107694 0\n",
      "214 78 1 129 1\n",
      "220 111437 0 111345 0\n",
      "234 300 1 134 1\n",
      "283 143542 0 143417 0\n"
     ]
    }
   ],
   "source": [
    "for i, err in enumerate(err_start):\n",
    "    if err > 100:\n",
    "        print (i, err_end[i], count_end[i], err, count_start[i])"
   ]
  },
  {
   "cell_type": "code",
   "execution_count": 57,
   "metadata": {
    "collapsed": false,
    "deletable": true,
    "editable": true
   },
   "outputs": [
    {
     "data": {
      "text/plain": [
       "[<matplotlib.lines.Line2D at 0x7f968786e278>]"
      ]
     },
     "execution_count": 57,
     "metadata": {},
     "output_type": "execute_result"
    },
    {
     "data": {
      "image/png": "[encoded data removed]",
      "text/plain": [
       "<matplotlib.figure.Figure at 0x7f984ecd2518>"
      ]
     },
     "metadata": {},
     "output_type": "display_data"
    }
   ],
   "source": [
    "plt.plot(err_end[abs(err_end) < 300], '.', alpha = 0.3)"
   ]
  },
  {
   "cell_type": "markdown",
   "metadata": {
    "deletable": true,
    "editable": true
   },
   "source": [
    "avtomatic test"
   ]
  },
  {
   "cell_type": "code",
   "execution_count": 22,
   "metadata": {
    "collapsed": true,
    "deletable": true,
    "editable": true
   },
   "outputs": [],
   "source": [
    "plt.rcParams['figure.figsize'] = (20,10)"
   ]
  },
  {
   "cell_type": "code",
   "execution_count": 39,
   "metadata": {
    "collapsed": false,
    "deletable": true,
    "editable": true,
    "scrolled": true
   },
   "outputs": [
    {
     "name": "stdout",
     "output_type": "stream",
     "text": [
      "step =  300\n"
     ]
    },
    {
     "name": "stderr",
     "output_type": "stream",
     "text": [
      "/home/malyugina/.local/lib/python3.5/site-packages/ipykernel/__main__.py:8: VisibleDeprecationWarning: using a non-integer number instead of an integer will result in an error in the future\n"
     ]
    },
    {
     "name": "stdout",
     "output_type": "stream",
     "text": [
      "X.test.shape =  (148817, 300, 4)\n",
      "Train on 557703 samples, validate on 151655 samples\n",
      "Epoch 1/12\n",
      "557000/557703 [============================>.] - ETA: 0s - loss: 0.0658Epoch 00000: val_loss improved from inf to 0.05019, saving model to CNN_experimenp_4_step_300.hdf5\n",
      "557703/557703 [==============================] - 40s - loss: 0.0658 - val_loss: 0.0502\n",
      "Epoch 2/12\n",
      "557000/557703 [============================>.] - ETA: 0s - loss: 0.0444Epoch 00001: val_loss improved from 0.05019 to 0.04672, saving model to CNN_experimenp_4_step_300.hdf5\n",
      "557703/557703 [==============================] - 41s - loss: 0.0443 - val_loss: 0.0467\n",
      "Epoch 3/12\n",
      "557000/557703 [============================>.] - ETA: 0s - loss: 0.0416Epoch 00002: val_loss improved from 0.04672 to 0.04659, saving model to CNN_experimenp_4_step_300.hdf5\n",
      "557703/557703 [==============================] - 40s - loss: 0.0416 - val_loss: 0.0466\n",
      "Epoch 4/12\n",
      "557000/557703 [============================>.] - ETA: 0s - loss: 0.0401Epoch 00003: val_loss improved from 0.04659 to 0.04531, saving model to CNN_experimenp_4_step_300.hdf5\n",
      "557703/557703 [==============================] - 40s - loss: 0.0401 - val_loss: 0.0453\n",
      "Epoch 5/12\n",
      "557000/557703 [============================>.] - ETA: 0s - loss: 0.0386Epoch 00004: val_loss did not improve\n",
      "557703/557703 [==============================] - 41s - loss: 0.0386 - val_loss: 0.0454\n",
      "Epoch 6/12\n",
      "557000/557703 [============================>.] - ETA: 0s - loss: 0.0385Epoch 00005: val_loss did not improve\n",
      "557703/557703 [==============================] - 41s - loss: 0.0386 - val_loss: 0.0459\n",
      "Epoch 7/12\n",
      "557000/557703 [============================>.] - ETA: 0s - loss: 0.0389Epoch 00006: val_loss did not improve\n",
      "557703/557703 [==============================] - 41s - loss: 0.0389 - val_loss: 0.0488\n",
      "Epoch 8/12\n",
      "557000/557703 [============================>.] - ETA: 0s - loss: 0.0386Epoch 00007: val_loss did not improve\n",
      "557703/557703 [==============================] - 41s - loss: 0.0387 - val_loss: 0.0463\n",
      "Epoch 9/12\n",
      "557000/557703 [============================>.] - ETA: 0s - loss: 0.0394Epoch 00008: val_loss did not improve\n",
      "557703/557703 [==============================] - 40s - loss: 0.0394 - val_loss: 0.0495\n",
      "Epoch 10/12\n",
      "557000/557703 [============================>.] - ETA: 0s - loss: 0.0398Epoch 00009: val_loss did not improve\n",
      "557703/557703 [==============================] - 40s - loss: 0.0398 - val_loss: 0.0475\n",
      "Epoch 11/12\n",
      "557000/557703 [============================>.] - ETA: 0s - loss: 0.0395Epoch 00010: val_loss did not improve\n",
      "557703/557703 [==============================] - 40s - loss: 0.0395 - val_loss: 0.0491\n",
      "Epoch 12/12\n",
      "557000/557703 [============================>.] - ETA: 0s - loss: 0.0398Epoch 00011: val_loss did not improve\n",
      "557703/557703 [==============================] - 40s - loss: 0.0398 - val_loss: 0.0474\n",
      "step =  200\n",
      "X.test.shape =  (148917, 200, 4)\n",
      "Train on 557803 samples, validate on 151755 samples\n",
      "Epoch 1/13\n",
      "557000/557803 [============================>.] - ETA: 0s - loss: 0.0713Epoch 00000: val_loss improved from inf to 0.05514, saving model to CNN_experimenp_4_step_200.hdf5\n",
      "557803/557803 [==============================] - 26s - loss: 0.0713 - val_loss: 0.0551\n",
      "Epoch 2/13\n",
      "557000/557803 [============================>.] - ETA: 0s - loss: 0.0500Epoch 00001: val_loss improved from 0.05514 to 0.05201, saving model to CNN_experimenp_4_step_200.hdf5\n",
      "557803/557803 [==============================] - 26s - loss: 0.0500 - val_loss: 0.0520\n",
      "Epoch 3/13\n",
      "557000/557803 [============================>.] - ETA: 0s - loss: 0.0465Epoch 00002: val_loss improved from 0.05201 to 0.04903, saving model to CNN_experimenp_4_step_200.hdf5\n",
      "557803/557803 [==============================] - 26s - loss: 0.0465 - val_loss: 0.0490\n",
      "Epoch 4/13\n",
      "557000/557803 [============================>.] - ETA: 0s - loss: 0.0441Epoch 00003: val_loss improved from 0.04903 to 0.04789, saving model to CNN_experimenp_4_step_200.hdf5\n",
      "557803/557803 [==============================] - 26s - loss: 0.0441 - val_loss: 0.0479\n",
      "Epoch 5/13\n",
      "557000/557803 [============================>.] - ETA: 0s - loss: 0.0427Epoch 00004: val_loss did not improve\n",
      "557803/557803 [==============================] - 26s - loss: 0.0428 - val_loss: 0.0487\n",
      "Epoch 6/13\n",
      "557000/557803 [============================>.] - ETA: 0s - loss: 0.0415Epoch 00005: val_loss did not improve\n",
      "557803/557803 [==============================] - 26s - loss: 0.0415 - val_loss: 0.0489\n",
      "Epoch 7/13\n",
      "557000/557803 [============================>.] - ETA: 0s - loss: 0.0405Epoch 00006: val_loss did not improve\n",
      "557803/557803 [==============================] - 26s - loss: 0.0405 - val_loss: 0.0480\n",
      "Epoch 8/13\n",
      "557000/557803 [============================>.] - ETA: 0s - loss: 0.0386Epoch 00007: val_loss improved from 0.04789 to 0.04671, saving model to CNN_experimenp_4_step_200.hdf5\n",
      "557803/557803 [==============================] - 26s - loss: 0.0386 - val_loss: 0.0467\n",
      "Epoch 9/13\n",
      "557000/557803 [============================>.] - ETA: 0s - loss: 0.0385Epoch 00008: val_loss did not improve\n",
      "557803/557803 [==============================] - 26s - loss: 0.0385 - val_loss: 0.0475\n",
      "Epoch 10/13\n",
      "557000/557803 [============================>.] - ETA: 0s - loss: 0.0380Epoch 00009: val_loss did not improve\n",
      "557803/557803 [==============================] - 27s - loss: 0.0380 - val_loss: 0.0492\n",
      "Epoch 11/13\n",
      "557000/557803 [============================>.] - ETA: 0s - loss: 0.0375Epoch 00010: val_loss did not improve\n",
      "557803/557803 [==============================] - 27s - loss: 0.0375 - val_loss: 0.0540\n",
      "Epoch 12/13\n",
      "557000/557803 [============================>.] - ETA: 0s - loss: 0.0371Epoch 00011: val_loss did not improve\n",
      "557803/557803 [==============================] - 26s - loss: 0.0371 - val_loss: 0.0487\n",
      "Epoch 13/13\n",
      "557000/557803 [============================>.] - ETA: 0s - loss: 0.0367Epoch 00012: val_loss did not improve\n",
      "557803/557803 [==============================] - 27s - loss: 0.0367 - val_loss: 0.0471\n",
      "step =  150\n",
      "X.test.shape =  (148967, 150, 4)\n",
      "Train on 557853 samples, validate on 151805 samples\n",
      "Epoch 1/14\n",
      "557000/557853 [============================>.] - ETA: 0s - loss: 0.0724Epoch 00000: val_loss improved from inf to 0.06812, saving model to CNN_experimenp_4_step_150.hdf5\n",
      "557853/557853 [==============================] - 19s - loss: 0.0724 - val_loss: 0.0681\n",
      "Epoch 2/14\n",
      "557000/557853 [============================>.] - ETA: 0s - loss: 0.0536Epoch 00001: val_loss improved from 0.06812 to 0.05471, saving model to CNN_experimenp_4_step_150.hdf5\n",
      "557853/557853 [==============================] - 19s - loss: 0.0536 - val_loss: 0.0547\n",
      "Epoch 3/14\n",
      "557000/557853 [============================>.] - ETA: 0s - loss: 0.0509Epoch 00002: val_loss did not improve\n",
      "557853/557853 [==============================] - 20s - loss: 0.0509 - val_loss: 0.0554\n",
      "Epoch 4/14\n",
      "557000/557853 [============================>.] - ETA: 0s - loss: 0.0488Epoch 00003: val_loss improved from 0.05471 to 0.05160, saving model to CNN_experimenp_4_step_150.hdf5\n",
      "557853/557853 [==============================] - 19s - loss: 0.0488 - val_loss: 0.0516\n",
      "Epoch 5/14\n",
      "557000/557853 [============================>.] - ETA: 0s - loss: 0.0477Epoch 00004: val_loss improved from 0.05160 to 0.04980, saving model to CNN_experimenp_4_step_150.hdf5\n",
      "557853/557853 [==============================] - 19s - loss: 0.0477 - val_loss: 0.0498\n",
      "Epoch 6/14\n",
      "557000/557853 [============================>.] - ETA: 0s - loss: 0.0472Epoch 00005: val_loss did not improve\n",
      "557853/557853 [==============================] - 19s - loss: 0.0472 - val_loss: 0.0522\n",
      "Epoch 7/14\n",
      "557000/557853 [============================>.] - ETA: 0s - loss: 0.0465Epoch 00006: val_loss improved from 0.04980 to 0.04801, saving model to CNN_experimenp_4_step_150.hdf5\n",
      "557853/557853 [==============================] - 20s - loss: 0.0465 - val_loss: 0.0480\n",
      "Epoch 8/14\n",
      "557000/557853 [============================>.] - ETA: 0s - loss: 0.0460Epoch 00007: val_loss did not improve\n",
      "557853/557853 [==============================] - 20s - loss: 0.0460 - val_loss: 0.0514\n",
      "Epoch 9/14\n",
      "557000/557853 [============================>.] - ETA: 0s - loss: 0.0450Epoch 00008: val_loss did not improve\n",
      "557853/557853 [==============================] - 20s - loss: 0.0450 - val_loss: 0.0491\n",
      "Epoch 10/14\n",
      "557000/557853 [============================>.] - ETA: 0s - loss: 0.0450Epoch 00009: val_loss did not improve\n",
      "557853/557853 [==============================] - 20s - loss: 0.0450 - val_loss: 0.0490\n",
      "Epoch 11/14\n",
      "557000/557853 [============================>.] - ETA: 0s - loss: 0.0443Epoch 00010: val_loss did not improve\n",
      "557853/557853 [==============================] - 20s - loss: 0.0443 - val_loss: 0.0495\n",
      "Epoch 12/14\n",
      "557000/557853 [============================>.] - ETA: 0s - loss: 0.0445Epoch 00011: val_loss did not improve\n",
      "557853/557853 [==============================] - 19s - loss: 0.0445 - val_loss: 0.0499\n",
      "Epoch 13/14\n",
      "557000/557853 [============================>.] - ETA: 0s - loss: 0.0449Epoch 00012: val_loss did not improve\n",
      "557853/557853 [==============================] - 19s - loss: 0.0449 - val_loss: 0.0502\n",
      "Epoch 14/14\n",
      "557000/557853 [============================>.] - ETA: 0s - loss: 0.0454Epoch 00013: val_loss did not improve\n",
      "557853/557853 [==============================] - 19s - loss: 0.0454 - val_loss: 0.0494\n",
      "step =  100\n",
      "X.test.shape =  (149017, 100, 4)\n",
      "Train on 557903 samples, validate on 151855 samples\n",
      "Epoch 1/16\n",
      "557000/557903 [============================>.] - ETA: 0s - loss: 0.0689Epoch 00000: val_loss improved from inf to 0.06094, saving model to CNN_experimenp_4_step_100.hdf5\n",
      "557903/557903 [==============================] - 13s - loss: 0.0689 - val_loss: 0.0609\n",
      "Epoch 2/16\n",
      "557000/557903 [============================>.] - ETA: 0s - loss: 0.0546Epoch 00001: val_loss improved from 0.06094 to 0.05938, saving model to CNN_experimenp_4_step_100.hdf5\n",
      "557903/557903 [==============================] - 12s - loss: 0.0545 - val_loss: 0.0594\n",
      "Epoch 3/16\n",
      "557000/557903 [============================>.] - ETA: 0s - loss: 0.0508Epoch 00002: val_loss improved from 0.05938 to 0.04950, saving model to CNN_experimenp_4_step_100.hdf5\n",
      "557903/557903 [==============================] - 12s - loss: 0.0508 - val_loss: 0.0495\n",
      "Epoch 4/16\n",
      "557000/557903 [============================>.] - ETA: 0s - loss: 0.0489Epoch 00003: val_loss did not improve\n",
      "557903/557903 [==============================] - 12s - loss: 0.0488 - val_loss: 0.0524\n",
      "Epoch 5/16\n",
      "557000/557903 [============================>.] - ETA: 0s - loss: 0.0463Epoch 00004: val_loss did not improve\n",
      "557903/557903 [==============================] - 12s - loss: 0.0463 - val_loss: 0.0497\n",
      "Epoch 6/16\n",
      "557000/557903 [============================>.] - ETA: 0s - loss: 0.0449Epoch 00005: val_loss improved from 0.04950 to 0.04827, saving model to CNN_experimenp_4_step_100.hdf5\n",
      "557903/557903 [==============================] - 13s - loss: 0.0449 - val_loss: 0.0483\n",
      "Epoch 7/16\n",
      "557000/557903 [============================>.] - ETA: 0s - loss: 0.0433Epoch 00006: val_loss improved from 0.04827 to 0.04645, saving model to CNN_experimenp_4_step_100.hdf5\n",
      "557903/557903 [==============================] - 13s - loss: 0.0433 - val_loss: 0.0464\n",
      "Epoch 8/16\n",
      "557000/557903 [============================>.] - ETA: 0s - loss: 0.0429Epoch 00007: val_loss did not improve\n",
      "557903/557903 [==============================] - 13s - loss: 0.0429 - val_loss: 0.0578\n",
      "Epoch 9/16\n",
      "557000/557903 [============================>.] - ETA: 0s - loss: 0.0420Epoch 00008: val_loss did not improve\n",
      "557903/557903 [==============================] - 13s - loss: 0.0420 - val_loss: 0.0491\n",
      "Epoch 10/16\n",
      "557000/557903 [============================>.] - ETA: 0s - loss: 0.0410Epoch 00009: val_loss did not improve\n",
      "557903/557903 [==============================] - 13s - loss: 0.0410 - val_loss: 0.0500\n",
      "Epoch 11/16\n",
      "557000/557903 [============================>.] - ETA: 0s - loss: 0.0410Epoch 00010: val_loss did not improve\n",
      "557903/557903 [==============================] - 13s - loss: 0.0410 - val_loss: 0.0498\n",
      "Epoch 12/16\n",
      "557000/557903 [============================>.] - ETA: 0s - loss: 0.0402Epoch 00011: val_loss did not improve\n",
      "557903/557903 [==============================] - 13s - loss: 0.0402 - val_loss: 0.0508\n",
      "Epoch 13/16\n",
      "557000/557903 [============================>.] - ETA: 0s - loss: 0.0410Epoch 00012: val_loss did not improve\n",
      "557903/557903 [==============================] - 13s - loss: 0.0410 - val_loss: 0.0485\n",
      "Epoch 14/16\n",
      "557000/557903 [============================>.] - ETA: 0s - loss: 0.0411Epoch 00013: val_loss did not improve\n",
      "557903/557903 [==============================] - 13s - loss: 0.0411 - val_loss: 0.0487\n",
      "Epoch 15/16\n",
      "557000/557903 [============================>.] - ETA: 0s - loss: 0.0403Epoch 00014: val_loss did not improve\n",
      "557903/557903 [==============================] - 13s - loss: 0.0403 - val_loss: 0.0492\n",
      "Epoch 16/16\n",
      "557000/557903 [============================>.] - ETA: 0s - loss: 0.0414Epoch 00015: val_loss did not improve\n",
      "557903/557903 [==============================] - 13s - loss: 0.0414 - val_loss: 0.0512\n",
      "step =  50\n",
      "X.test.shape =  (149067, 50, 4)\n",
      "Train on 557953 samples, validate on 151905 samples\n",
      "Epoch 1/22\n",
      "557000/557953 [============================>.] - ETA: 0s - loss: 0.0734Epoch 00000: val_loss improved from inf to 0.06256, saving model to CNN_experimenp_4_step_50.hdf5\n",
      "557953/557953 [==============================] - 6s - loss: 0.0734 - val_loss: 0.0626\n",
      "Epoch 2/22\n",
      "557000/557953 [============================>.] - ETA: 0s - loss: 0.0599Epoch 00001: val_loss improved from 0.06256 to 0.05562, saving model to CNN_experimenp_4_step_50.hdf5\n",
      "557953/557953 [==============================] - 6s - loss: 0.0599 - val_loss: 0.0556\n",
      "Epoch 3/22\n",
      "557000/557953 [============================>.] - ETA: 0s - loss: 0.0563Epoch 00002: val_loss did not improve\n",
      "557953/557953 [==============================] - 6s - loss: 0.0563 - val_loss: 0.0567\n",
      "Epoch 4/22\n",
      "557000/557953 [============================>.] - ETA: 0s - loss: 0.0546Epoch 00003: val_loss did not improve\n",
      "557953/557953 [==============================] - 6s - loss: 0.0546 - val_loss: 0.0562\n",
      "Epoch 5/22\n",
      "557000/557953 [============================>.] - ETA: 0s - loss: 0.0541Epoch 00004: val_loss improved from 0.05562 to 0.05528, saving model to CNN_experimenp_4_step_50.hdf5\n",
      "557953/557953 [==============================] - 6s - loss: 0.0542 - val_loss: 0.0553\n",
      "Epoch 6/22\n",
      "557000/557953 [============================>.] - ETA: 0s - loss: 0.0531Epoch 00005: val_loss improved from 0.05528 to 0.05436, saving model to CNN_experimenp_4_step_50.hdf5\n",
      "557953/557953 [==============================] - 6s - loss: 0.0530 - val_loss: 0.0544\n",
      "Epoch 7/22\n",
      "557000/557953 [============================>.] - ETA: 0s - loss: 0.0522Epoch 00006: val_loss did not improve\n",
      "557953/557953 [==============================] - 6s - loss: 0.0522 - val_loss: 0.0548\n",
      "Epoch 8/22\n",
      "557000/557953 [============================>.] - ETA: 0s - loss: 0.0517Epoch 00007: val_loss did not improve\n",
      "557953/557953 [==============================] - 6s - loss: 0.0517 - val_loss: 0.0547\n",
      "Epoch 9/22\n",
      "557000/557953 [============================>.] - ETA: 0s - loss: 0.0512Epoch 00008: val_loss did not improve\n",
      "557953/557953 [==============================] - 6s - loss: 0.0512 - val_loss: 0.0558\n",
      "Epoch 10/22\n",
      "557000/557953 [============================>.] - ETA: 0s - loss: 0.0500Epoch 00009: val_loss did not improve\n",
      "557953/557953 [==============================] - 6s - loss: 0.0500 - val_loss: 0.0546\n",
      "Epoch 11/22\n",
      "557000/557953 [============================>.] - ETA: 0s - loss: 0.0495Epoch 00010: val_loss did not improve\n",
      "557953/557953 [==============================] - 6s - loss: 0.0495 - val_loss: 0.0551\n",
      "Epoch 12/22\n",
      "557000/557953 [============================>.] - ETA: 0s - loss: 0.0493Epoch 00011: val_loss improved from 0.05436 to 0.05288, saving model to CNN_experimenp_4_step_50.hdf5\n",
      "557953/557953 [==============================] - 6s - loss: 0.0493 - val_loss: 0.0529\n",
      "Epoch 13/22\n",
      "557000/557953 [============================>.] - ETA: 0s - loss: 0.0483Epoch 00012: val_loss did not improve\n",
      "557953/557953 [==============================] - 6s - loss: 0.0483 - val_loss: 0.0551\n",
      "Epoch 14/22\n",
      "557000/557953 [============================>.] - ETA: 0s - loss: 0.0483Epoch 00013: val_loss did not improve\n",
      "557953/557953 [==============================] - 6s - loss: 0.0483 - val_loss: 0.0549\n",
      "Epoch 15/22\n",
      "557000/557953 [============================>.] - ETA: 0s - loss: 0.0497Epoch 00014: val_loss did not improve\n",
      "557953/557953 [==============================] - 6s - loss: 0.0497 - val_loss: 0.0541\n",
      "Epoch 16/22\n",
      "557000/557953 [============================>.] - ETA: 0s - loss: 0.0486Epoch 00015: val_loss did not improve\n",
      "557953/557953 [==============================] - 6s - loss: 0.0486 - val_loss: 0.0548\n",
      "Epoch 17/22\n",
      "557000/557953 [============================>.] - ETA: 0s - loss: 0.0475Epoch 00016: val_loss improved from 0.05288 to 0.05284, saving model to CNN_experimenp_4_step_50.hdf5\n",
      "557953/557953 [==============================] - 6s - loss: 0.0475 - val_loss: 0.0528\n",
      "Epoch 18/22\n",
      "557000/557953 [============================>.] - ETA: 0s - loss: 0.0466Epoch 00017: val_loss did not improve\n",
      "557953/557953 [==============================] - 6s - loss: 0.0466 - val_loss: 0.0537\n",
      "Epoch 19/22\n",
      "557000/557953 [============================>.] - ETA: 0s - loss: 0.0466Epoch 00018: val_loss did not improve\n",
      "557953/557953 [==============================] - 6s - loss: 0.0466 - val_loss: 0.0538\n",
      "Epoch 20/22\n",
      "557000/557953 [============================>.] - ETA: 0s - loss: 0.0464Epoch 00019: val_loss did not improve\n",
      "557953/557953 [==============================] - 6s - loss: 0.0464 - val_loss: 0.0537\n",
      "Epoch 21/22\n",
      "557000/557953 [============================>.] - ETA: 0s - loss: 0.0462Epoch 00020: val_loss did not improve\n",
      "557953/557953 [==============================] - 6s - loss: 0.0462 - val_loss: 0.0540\n",
      "Epoch 22/22\n",
      "557000/557953 [============================>.] - ETA: 0s - loss: 0.0459Epoch 00021: val_loss did not improve\n",
      "557953/557953 [==============================] - 6s - loss: 0.0459 - val_loss: 0.0564\n",
      "step =  30\n",
      "X.test.shape =  (149087, 30, 4)\n",
      "Train on 557973 samples, validate on 151925 samples\n",
      "Epoch 1/30\n",
      "557000/557973 [============================>.] - ETA: 0s - loss: 0.0773Epoch 00000: val_loss improved from inf to 0.07741, saving model to CNN_experimenp_4_step_30.hdf5\n",
      "557973/557973 [==============================] - 3s - loss: 0.0772 - val_loss: 0.0774\n",
      "Epoch 2/30\n",
      "557000/557973 [============================>.] - ETA: 0s - loss: 0.0651Epoch 00001: val_loss improved from 0.07741 to 0.06490, saving model to CNN_experimenp_4_step_30.hdf5\n",
      "557973/557973 [==============================] - 3s - loss: 0.0651 - val_loss: 0.0649\n",
      "Epoch 3/30\n",
      "557000/557973 [============================>.] - ETA: 0s - loss: 0.0622Epoch 00002: val_loss improved from 0.06490 to 0.06364, saving model to CNN_experimenp_4_step_30.hdf5\n",
      "557973/557973 [==============================] - 3s - loss: 0.0622 - val_loss: 0.0636\n",
      "Epoch 4/30\n",
      "557000/557973 [============================>.] - ETA: 0s - loss: 0.0612Epoch 00003: val_loss did not improve\n",
      "557973/557973 [==============================] - 3s - loss: 0.0611 - val_loss: 0.0667\n",
      "Epoch 5/30\n",
      "557000/557973 [============================>.] - ETA: 0s - loss: 0.0604Epoch 00004: val_loss did not improve\n",
      "557973/557973 [==============================] - 3s - loss: 0.0604 - val_loss: 0.0684\n",
      "Epoch 6/30\n",
      "557000/557973 [============================>.] - ETA: 0s - loss: 0.0594Epoch 00005: val_loss did not improve\n",
      "557973/557973 [==============================] - 3s - loss: 0.0594 - val_loss: 0.0638\n",
      "Epoch 7/30\n",
      "557000/557973 [============================>.] - ETA: 0s - loss: 0.0590Epoch 00006: val_loss improved from 0.06364 to 0.05980, saving model to CNN_experimenp_4_step_30.hdf5\n",
      "557973/557973 [==============================] - 3s - loss: 0.0590 - val_loss: 0.0598\n",
      "Epoch 8/30\n",
      "557000/557973 [============================>.] - ETA: 0s - loss: 0.0587Epoch 00007: val_loss did not improve\n",
      "557973/557973 [==============================] - 3s - loss: 0.0587 - val_loss: 0.0650\n",
      "Epoch 9/30\n",
      "557000/557973 [============================>.] - ETA: 0s - loss: 0.0582Epoch 00008: val_loss improved from 0.05980 to 0.05965, saving model to CNN_experimenp_4_step_30.hdf5\n",
      "557973/557973 [==============================] - 3s - loss: 0.0582 - val_loss: 0.0597\n",
      "Epoch 10/30\n",
      "557000/557973 [============================>.] - ETA: 0s - loss: 0.0579Epoch 00009: val_loss did not improve\n",
      "557973/557973 [==============================] - 3s - loss: 0.0579 - val_loss: 0.0612\n",
      "Epoch 11/30\n",
      "557000/557973 [============================>.] - ETA: 0s - loss: 0.0573Epoch 00010: val_loss did not improve\n",
      "557973/557973 [==============================] - 3s - loss: 0.0573 - val_loss: 0.0617\n",
      "Epoch 12/30\n",
      "557000/557973 [============================>.] - ETA: 0s - loss: 0.0573Epoch 00011: val_loss improved from 0.05965 to 0.05886, saving model to CNN_experimenp_4_step_30.hdf5\n",
      "557973/557973 [==============================] - 3s - loss: 0.0573 - val_loss: 0.0589\n",
      "Epoch 13/30\n",
      "557000/557973 [============================>.] - ETA: 0s - loss: 0.0569Epoch 00012: val_loss did not improve\n",
      "557973/557973 [==============================] - 3s - loss: 0.0569 - val_loss: 0.0617\n",
      "Epoch 14/30\n",
      "557000/557973 [============================>.] - ETA: 0s - loss: 0.0565Epoch 00013: val_loss did not improve\n",
      "557973/557973 [==============================] - 3s - loss: 0.0565 - val_loss: 0.0597\n",
      "Epoch 15/30\n",
      "557000/557973 [============================>.] - ETA: 0s - loss: 0.0564Epoch 00014: val_loss did not improve\n",
      "557973/557973 [==============================] - 3s - loss: 0.0564 - val_loss: 0.0623\n",
      "Epoch 16/30\n",
      "557000/557973 [============================>.] - ETA: 0s - loss: 0.0565Epoch 00015: val_loss did not improve\n",
      "557973/557973 [==============================] - 3s - loss: 0.0565 - val_loss: 0.0627\n",
      "Epoch 17/30\n",
      "557000/557973 [============================>.] - ETA: 0s - loss: 0.0560Epoch 00016: val_loss did not improve\n",
      "557973/557973 [==============================] - 3s - loss: 0.0560 - val_loss: 0.0610\n",
      "Epoch 18/30\n",
      "557000/557973 [============================>.] - ETA: 0s - loss: 0.0561Epoch 00017: val_loss did not improve\n",
      "557973/557973 [==============================] - 3s - loss: 0.0561 - val_loss: 0.0591\n",
      "Epoch 19/30\n",
      "557000/557973 [============================>.] - ETA: 0s - loss: 0.0562Epoch 00018: val_loss did not improve\n",
      "557973/557973 [==============================] - 3s - loss: 0.0562 - val_loss: 0.0589\n",
      "Epoch 20/30\n",
      "557000/557973 [============================>.] - ETA: 0s - loss: 0.0556Epoch 00019: val_loss did not improve\n",
      "557973/557973 [==============================] - 3s - loss: 0.0556 - val_loss: 0.0601\n",
      "Epoch 21/30\n",
      "557000/557973 [============================>.] - ETA: 0s - loss: 0.0561Epoch 00020: val_loss did not improve\n",
      "557973/557973 [==============================] - 3s - loss: 0.0560 - val_loss: 0.0592\n",
      "Epoch 22/30\n",
      "557000/557973 [============================>.] - ETA: 0s - loss: 0.0557Epoch 00021: val_loss did not improve\n",
      "557973/557973 [==============================] - 3s - loss: 0.0557 - val_loss: 0.0610\n",
      "Epoch 23/30\n",
      "557000/557973 [============================>.] - ETA: 0s - loss: 0.0557Epoch 00022: val_loss did not improve\n",
      "557973/557973 [==============================] - 3s - loss: 0.0557 - val_loss: 0.0613\n",
      "Epoch 24/30\n",
      "557000/557973 [============================>.] - ETA: 0s - loss: 0.0553Epoch 00023: val_loss did not improve\n",
      "557973/557973 [==============================] - 3s - loss: 0.0553 - val_loss: 0.0594\n",
      "Epoch 25/30\n",
      "557000/557973 [============================>.] - ETA: 0s - loss: 0.0553Epoch 00024: val_loss did not improve\n",
      "557973/557973 [==============================] - 3s - loss: 0.0553 - val_loss: 0.0612\n",
      "Epoch 26/30\n",
      "557000/557973 [============================>.] - ETA: 0s - loss: 0.0554Epoch 00025: val_loss improved from 0.05886 to 0.05799, saving model to CNN_experimenp_4_step_30.hdf5\n",
      "557973/557973 [==============================] - 3s - loss: 0.0554 - val_loss: 0.0580\n",
      "Epoch 27/30\n",
      "557000/557973 [============================>.] - ETA: 0s - loss: 0.0550Epoch 00026: val_loss did not improve\n",
      "557973/557973 [==============================] - 3s - loss: 0.0550 - val_loss: 0.0608\n",
      "Epoch 28/30\n",
      "557000/557973 [============================>.] - ETA: 0s - loss: 0.0547Epoch 00027: val_loss did not improve\n",
      "557973/557973 [==============================] - 3s - loss: 0.0547 - val_loss: 0.0596\n",
      "Epoch 29/30\n",
      "557000/557973 [============================>.] - ETA: 0s - loss: 0.0548Epoch 00028: val_loss did not improve\n",
      "557973/557973 [==============================] - 3s - loss: 0.0548 - val_loss: 0.0632\n",
      "Epoch 30/30\n",
      "557000/557973 [============================>.] - ETA: 0s - loss: 0.0547Epoch 00029: val_loss did not improve\n",
      "557973/557973 [==============================] - 3s - loss: 0.0547 - val_loss: 0.0604\n",
      "step =  20\n",
      "X.test.shape =  (149097, 20, 4)\n",
      "Train on 557983 samples, validate on 151935 samples\n",
      "Epoch 1/40\n",
      "557000/557983 [============================>.] - ETA: 0s - loss: 0.0800Epoch 00000: val_loss improved from inf to 0.07510, saving model to CNN_experimenp_4_step_20.hdf5\n",
      "557983/557983 [==============================] - 2s - loss: 0.0800 - val_loss: 0.0751\n",
      "Epoch 2/40\n",
      "556000/557983 [============================>.] - ETA: 0s - loss: 0.0709Epoch 00001: val_loss improved from 0.07510 to 0.07181, saving model to CNN_experimenp_4_step_20.hdf5\n",
      "557983/557983 [==============================] - 2s - loss: 0.0708 - val_loss: 0.0718\n",
      "Epoch 3/40\n",
      "556000/557983 [============================>.] - ETA: 0s - loss: 0.0689Epoch 00002: val_loss did not improve\n",
      "557983/557983 [==============================] - 2s - loss: 0.0689 - val_loss: 0.0720\n",
      "Epoch 4/40\n",
      "556000/557983 [============================>.] - ETA: 0s - loss: 0.0677Epoch 00003: val_loss improved from 0.07181 to 0.07009, saving model to CNN_experimenp_4_step_20.hdf5\n",
      "557983/557983 [==============================] - 2s - loss: 0.0677 - val_loss: 0.0701\n",
      "Epoch 5/40\n",
      "556000/557983 [============================>.] - ETA: 0s - loss: 0.0669Epoch 00004: val_loss improved from 0.07009 to 0.06809, saving model to CNN_experimenp_4_step_20.hdf5\n",
      "557983/557983 [==============================] - 2s - loss: 0.0669 - val_loss: 0.0681\n",
      "Epoch 6/40\n",
      "556000/557983 [============================>.] - ETA: 0s - loss: 0.0658Epoch 00005: val_loss did not improve\n",
      "557983/557983 [==============================] - 2s - loss: 0.0658 - val_loss: 0.0694\n",
      "Epoch 7/40\n",
      "555000/557983 [============================>.] - ETA: 0s - loss: 0.0652Epoch 00006: val_loss improved from 0.06809 to 0.06642, saving model to CNN_experimenp_4_step_20.hdf5\n",
      "557983/557983 [==============================] - 2s - loss: 0.0652 - val_loss: 0.0664\n",
      "Epoch 8/40\n",
      "557000/557983 [============================>.] - ETA: 0s - loss: 0.0645Epoch 00007: val_loss did not improve\n",
      "557983/557983 [==============================] - 2s - loss: 0.0645 - val_loss: 0.0676\n",
      "Epoch 9/40\n",
      "556000/557983 [============================>.] - ETA: 0s - loss: 0.0644Epoch 00008: val_loss did not improve\n",
      "557983/557983 [==============================] - 2s - loss: 0.0643 - val_loss: 0.0678\n",
      "Epoch 10/40\n",
      "556000/557983 [============================>.] - ETA: 0s - loss: 0.0640Epoch 00009: val_loss improved from 0.06642 to 0.06623, saving model to CNN_experimenp_4_step_20.hdf5\n",
      "557983/557983 [==============================] - 2s - loss: 0.0640 - val_loss: 0.0662\n",
      "Epoch 11/40\n",
      "556000/557983 [============================>.] - ETA: 0s - loss: 0.0632Epoch 00010: val_loss improved from 0.06623 to 0.06607, saving model to CNN_experimenp_4_step_20.hdf5\n",
      "557983/557983 [==============================] - 2s - loss: 0.0632 - val_loss: 0.0661\n",
      "Epoch 12/40\n",
      "556000/557983 [============================>.] - ETA: 0s - loss: 0.0629Epoch 00011: val_loss improved from 0.06607 to 0.06578, saving model to CNN_experimenp_4_step_20.hdf5\n",
      "557983/557983 [==============================] - 2s - loss: 0.0629 - val_loss: 0.0658\n",
      "Epoch 13/40\n",
      "555000/557983 [============================>.] - ETA: 0s - loss: 0.0634Epoch 00012: val_loss did not improve\n",
      "557983/557983 [==============================] - 2s - loss: 0.0634 - val_loss: 0.0663\n",
      "Epoch 14/40\n",
      "555000/557983 [============================>.] - ETA: 0s - loss: 0.0628Epoch 00013: val_loss did not improve\n",
      "557983/557983 [==============================] - 2s - loss: 0.0628 - val_loss: 0.0682\n",
      "Epoch 15/40\n",
      "555000/557983 [============================>.] - ETA: 0s - loss: 0.0630Epoch 00014: val_loss did not improve\n",
      "557983/557983 [==============================] - 2s - loss: 0.0630 - val_loss: 0.0664\n",
      "Epoch 16/40\n",
      "556000/557983 [============================>.] - ETA: 0s - loss: 0.0632Epoch 00015: val_loss did not improve\n",
      "557983/557983 [==============================] - 2s - loss: 0.0632 - val_loss: 0.0676\n",
      "Epoch 17/40\n",
      "555000/557983 [============================>.] - ETA: 0s - loss: 0.0627Epoch 00016: val_loss did not improve\n",
      "557983/557983 [==============================] - 2s - loss: 0.0627 - val_loss: 0.0667\n",
      "Epoch 18/40\n",
      "557000/557983 [============================>.] - ETA: 0s - loss: 0.0626Epoch 00017: val_loss did not improve\n",
      "557983/557983 [==============================] - 2s - loss: 0.0626 - val_loss: 0.0658\n",
      "Epoch 19/40\n",
      "556000/557983 [============================>.] - ETA: 0s - loss: 0.0625Epoch 00018: val_loss did not improve\n",
      "557983/557983 [==============================] - 2s - loss: 0.0625 - val_loss: 0.0664\n",
      "Epoch 20/40\n",
      "555000/557983 [============================>.] - ETA: 0s - loss: 0.0625Epoch 00019: val_loss did not improve\n",
      "557983/557983 [==============================] - 2s - loss: 0.0625 - val_loss: 0.0690\n",
      "Epoch 21/40\n",
      "555000/557983 [============================>.] - ETA: 0s - loss: 0.0625Epoch 00020: val_loss did not improve\n",
      "557983/557983 [==============================] - 2s - loss: 0.0625 - val_loss: 0.0661\n",
      "Epoch 22/40\n",
      "557000/557983 [============================>.] - ETA: 0s - loss: 0.0626Epoch 00021: val_loss improved from 0.06578 to 0.06564, saving model to CNN_experimenp_4_step_20.hdf5\n",
      "557983/557983 [==============================] - 2s - loss: 0.0626 - val_loss: 0.0656\n",
      "Epoch 23/40\n",
      "557000/557983 [============================>.] - ETA: 0s - loss: 0.0627Epoch 00022: val_loss did not improve\n",
      "557983/557983 [==============================] - 2s - loss: 0.0627 - val_loss: 0.0662\n",
      "Epoch 24/40\n",
      "556000/557983 [============================>.] - ETA: 0s - loss: 0.0625Epoch 00023: val_loss improved from 0.06564 to 0.06521, saving model to CNN_experimenp_4_step_20.hdf5\n",
      "557983/557983 [==============================] - 2s - loss: 0.0625 - val_loss: 0.0652\n",
      "Epoch 25/40\n",
      "556000/557983 [============================>.] - ETA: 0s - loss: 0.0623Epoch 00024: val_loss improved from 0.06521 to 0.06482, saving model to CNN_experimenp_4_step_20.hdf5\n",
      "557983/557983 [==============================] - 2s - loss: 0.0623 - val_loss: 0.0648\n",
      "Epoch 26/40\n",
      "556000/557983 [============================>.] - ETA: 0s - loss: 0.0622Epoch 00025: val_loss did not improve\n",
      "557983/557983 [==============================] - 2s - loss: 0.0622 - val_loss: 0.0666\n",
      "Epoch 27/40\n",
      "555000/557983 [============================>.] - ETA: 0s - loss: 0.0620Epoch 00026: val_loss did not improve\n",
      "557983/557983 [==============================] - 2s - loss: 0.0620 - val_loss: 0.0665\n",
      "Epoch 28/40\n",
      "556000/557983 [============================>.] - ETA: 0s - loss: 0.0622Epoch 00027: val_loss did not improve\n",
      "557983/557983 [==============================] - 2s - loss: 0.0622 - val_loss: 0.0658\n",
      "Epoch 29/40\n",
      "555000/557983 [============================>.] - ETA: 0s - loss: 0.0622Epoch 00028: val_loss did not improve\n",
      "557983/557983 [==============================] - 2s - loss: 0.0622 - val_loss: 0.0659\n",
      "Epoch 30/40\n",
      "556000/557983 [============================>.] - ETA: 0s - loss: 0.0626Epoch 00029: val_loss did not improve\n",
      "557983/557983 [==============================] - 2s - loss: 0.0626 - val_loss: 0.0660\n",
      "Epoch 31/40\n",
      "557000/557983 [============================>.] - ETA: 0s - loss: 0.0620Epoch 00030: val_loss did not improve\n",
      "557983/557983 [==============================] - 2s - loss: 0.0620 - val_loss: 0.0661\n",
      "Epoch 32/40\n",
      "557000/557983 [============================>.] - ETA: 0s - loss: 0.0622Epoch 00031: val_loss did not improve\n",
      "557983/557983 [==============================] - 2s - loss: 0.0622 - val_loss: 0.0668\n",
      "Epoch 33/40\n",
      "557000/557983 [============================>.] - ETA: 0s - loss: 0.0622Epoch 00032: val_loss did not improve\n",
      "557983/557983 [==============================] - 2s - loss: 0.0622 - val_loss: 0.0652\n",
      "Epoch 34/40\n",
      "557000/557983 [============================>.] - ETA: 0s - loss: 0.0615Epoch 00033: val_loss did not improve\n",
      "557983/557983 [==============================] - 2s - loss: 0.0615 - val_loss: 0.0659\n",
      "Epoch 35/40\n",
      "555000/557983 [============================>.] - ETA: 0s - loss: 0.0617Epoch 00034: val_loss did not improve\n",
      "557983/557983 [==============================] - 2s - loss: 0.0617 - val_loss: 0.0656\n",
      "Epoch 36/40\n",
      "555000/557983 [============================>.] - ETA: 0s - loss: 0.0617Epoch 00035: val_loss did not improve\n",
      "557983/557983 [==============================] - 2s - loss: 0.0617 - val_loss: 0.0683\n",
      "Epoch 37/40\n",
      "555000/557983 [============================>.] - ETA: 0s - loss: 0.0617Epoch 00036: val_loss did not improve\n",
      "557983/557983 [==============================] - 2s - loss: 0.0617 - val_loss: 0.0690\n",
      "Epoch 38/40\n",
      "556000/557983 [============================>.] - ETA: 0s - loss: 0.0620Epoch 00037: val_loss did not improve\n",
      "557983/557983 [==============================] - 2s - loss: 0.0620 - val_loss: 0.0685\n",
      "Epoch 39/40\n",
      "555000/557983 [============================>.] - ETA: 0s - loss: 0.0617Epoch 00038: val_loss did not improve\n",
      "557983/557983 [==============================] - 2s - loss: 0.0618 - val_loss: 0.0657\n",
      "Epoch 40/40\n",
      "556000/557983 [============================>.] - ETA: 0s - loss: 0.0618Epoch 00039: val_loss did not improve\n",
      "557983/557983 [==============================] - 2s - loss: 0.0618 - val_loss: 0.0658\n"
     ]
    },
    {
     "data": {
      "image/png": "[encoded data removed]",
      "text/plain": [
       "<matplotlib.figure.Figure at 0x7f71b84ac898>"
      ]
     },
     "metadata": {},
     "output_type": "display_data"
    }
   ],
   "source": [
    "colors = cycle(['cyan', 'indigo', 'seagreen', 'yellow', 'blue', 'darkorange'])\n",
    "steps = [20, 30, 50, 100, 150, 200, 300][::-1]\n",
    "mean_tpr = 0.0\n",
    "mean_fpr = np.linspace(0, 1, 100)\n",
    "lw = 2\n",
    "numbers_filter = 40\n",
    "filter_length = 5\n",
    "\n",
    "\n",
    "\n",
    "for step, color in zip(steps, colors):\n",
    "    print ('step = ', step)\n",
    "    y_with_feature = {}\n",
    "    x_with_feature = {}\n",
    "    \n",
    "    (X_train, y_train) = data_for_lstm(tr_X, tr_Y, step)\n",
    "    (X_val, y_val) = data_for_lstm(val_X, val_Y, step)\n",
    "    (X_test, y_test) = data_for_lstm(te_X, te_Y, step)\n",
    "    print ('X.test.shape = ', X_test.shape)\n",
    "    \n",
    "    checkpointer = ModelCheckpoint(filepath=\"CNN_experimenp_4_step_\" + str(step) +\".hdf5\", \n",
    "                               verbose=1, save_best_only=True)\n",
    "\n",
    "\n",
    "\n",
    "    model = Sequential()\n",
    "    model.add(Convolution1D(numbers_filter, filter_length, init='uniform', activation='relu', border_mode='valid', \n",
    "                           input_shape=X_train.shape[1:]))\n",
    "    model.add(Convolution1D(numbers_filter, filter_length, init='uniform', activation='relu', border_mode='valid'))\n",
    "    model.add(MaxPooling1D(10))\n",
    "    model.add(Dropout(0.25))\n",
    "    model.add(Flatten())\n",
    "    model.add(Dense(300))\n",
    "    model.add(Activation(\"sigmoid\"))\n",
    "    model.add(Dense(1))\n",
    "    model.add(Activation(\"sigmoid\"))\n",
    "    model.compile(loss=\"mean_squared_error\", optimizer=\"Adam\")\n",
    "\n",
    "\n",
    "    model.fit(X_train[:, :, :], y_train, batch_size=1000, nb_epoch=10+int(600/step), \n",
    "              validation_data=(X_val[:, :, :], y_val), callbacks=[checkpointer])\n",
    "\n",
    "    \n",
    "    predicted = model.predict(X_test)\n",
    "    \n",
    "    fpr, tpr, thresholds = roc_curve(y_test, predicted)\n",
    "    mean_tpr += interp(mean_fpr, fpr, tpr)\n",
    "    mean_tpr[0] = 0.0\n",
    "    roc_auc = auc(fpr, tpr)\n",
    "    plt.plot(fpr, tpr, lw=lw, color=color,\n",
    "             label='window = %d (area = %0.4f)' % (step, roc_auc))\n",
    "plt.plot([0, 1], [0, 1], linestyle='--', lw=lw, color='k',\n",
    "         label='Luck')\n",
    "\n",
    "mean_tpr[-1] = 1.0\n",
    "mean_auc = auc(mean_fpr, mean_tpr)\n",
    "plt.plot(mean_fpr, mean_tpr, color='g', linestyle='--',\n",
    "         label='Mean ROC (area = %0.4f)' % mean_auc, lw=lw)\n",
    "plt.xlim([-0.05, 1.05])\n",
    "plt.ylim([-0.05, 1.05])\n",
    "plt.xlabel('False Positive Rate')\n",
    "plt.ylabel('True Positive Rate')\n",
    "plt.title('Receiver operating characteristic example')\n",
    "plt.legend(loc=\"lower right\")\n",
    "plt.savefig('ROC_cnn_num_filteres_40_filteres_len_5_21d_curve_for_dif_step.png')\n",
    "plt.show()"
   ]
  },
  {
   "cell_type": "code",
   "execution_count": null,
   "metadata": {
    "collapsed": true,
    "deletable": true,
    "editable": true
   },
   "outputs": [],
   "source": []
  }
 ],
 "metadata": {
  "kernelspec": {
   "display_name": "Python 3",
   "language": "python",
   "name": "python3"
  },
  "language_info": {
   "codemirror_mode": {
    "name": "ipython",
    "version": 3
   },
   "file_extension": ".py",
   "mimetype": "text/x-python",
   "name": "python",
   "nbconvert_exporter": "python",
   "pygments_lexer": "ipython3",
   "version": "3.5.2"
  }
 },
 "nbformat": 4,
 "nbformat_minor": 0
}
